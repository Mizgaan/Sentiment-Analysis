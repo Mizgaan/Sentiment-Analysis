{
 "cells": [
  {
   "cell_type": "code",
   "execution_count": 4,
   "metadata": {},
   "outputs": [],
   "source": [
    "# !pip install selenium"
   ]
  },
  {
   "cell_type": "code",
   "execution_count": null,
   "metadata": {},
   "outputs": [],
   "source": [
    "\n"
   ]
  },
  {
   "cell_type": "code",
   "execution_count": 5,
   "metadata": {},
   "outputs": [],
   "source": [
    "# !pip install beautifulsoup4"
   ]
  },
  {
   "cell_type": "code",
   "execution_count": 6,
   "metadata": {
    "scrolled": true
   },
   "outputs": [],
   "source": [
    "# !pip install textblob"
   ]
  },
  {
   "cell_type": "code",
   "execution_count": 1,
   "metadata": {},
   "outputs": [],
   "source": [
    "from selenium import webdriver  \n",
    "import time\n",
    "import requests\n",
    "from bs4 import BeautifulSoup\n",
    "import pandas as pd\n",
    "import numpy as np"
   ]
  },
  {
   "cell_type": "markdown",
   "metadata": {},
   "source": [
    "## Opening Chrome Browser and visting the site"
   ]
  },
  {
   "cell_type": "code",
   "execution_count": 2,
   "metadata": {},
   "outputs": [],
   "source": [
    "# change the chrome.exe and chromedrive.exe path according to your system\n",
    "\n",
    "CHROME_PATH = r'C:\\Users\\Mizgaan\\AppData\\Local\\Google\\Chrome\\Application\\chrome.exe'\n",
    "CHROMEDRIVER_PATH = r'C:\\Users\\Mizgaan\\chromedriver_win32\\chromedriver.exe'\n",
    "# WINDOW_SIZE = \"1920,1080\""
   ]
  },
  {
   "cell_type": "code",
   "execution_count": 3,
   "metadata": {},
   "outputs": [],
   "source": [
    "# chrome_options = Options()\n",
    "# chrome_options.add_argument(\"--headless\")\n",
    "# chrome_options.add_argument(\"--window-size=%s\" % WINDOW_SIZE)\n",
    "# chrome_options.binary_location = CHROME_PATH"
   ]
  },
  {
   "cell_type": "code",
   "execution_count": 4,
   "metadata": {},
   "outputs": [],
   "source": [
    "browser = webdriver.Chrome(executable_path=CHROMEDRIVER_PATH)\n",
    "browser.maximize_window()"
   ]
  },
  {
   "cell_type": "code",
   "execution_count": 5,
   "metadata": {},
   "outputs": [],
   "source": [
    "# Naviagte to IMDB site\n",
    "browser.get(\"https://www.imdb.com/chart/moviemeter/?ref_=nv_mv_mpm\")\n",
    "films=[]\n",
    "\n",
    "# this loop decides no. of movies to fetech    \n",
    "for i in range(1,5):\n",
    "    # feteching the list of movies\n",
    "    \n",
    "    xpath=\"//*[@id='main']/div/span/div/div/div[3]/table/tbody/tr[\"+str(i)+\"]/td[2]/a\"\n",
    "    \n",
    "    #url\n",
    "    films.append([browser.find_element_by_xpath(xpath).get_attribute(\"href\")])   # Fetching the url & title of the movie"
   ]
  },
  {
   "cell_type": "code",
   "execution_count": 6,
   "metadata": {},
   "outputs": [
    {
     "data": {
      "text/plain": [
       "4"
      ]
     },
     "execution_count": 6,
     "metadata": {},
     "output_type": "execute_result"
    }
   ],
   "source": [
    "len(films)"
   ]
  },
  {
   "cell_type": "code",
   "execution_count": 7,
   "metadata": {},
   "outputs": [],
   "source": [
    "for film in films:  \n",
    "    browser.get(film[0])\n",
    "    try:\n",
    "        # getting the title \n",
    "        film.append(browser.find_element_by_xpath('//*[@id=\"title-overview-widget\"]/div[1]/div[2]/div/div[2]/div[2]/h1').text)\n",
    "         # getting the length_of_the_movie\n",
    "        film.append(browser.find_element_by_xpath(\"//*[@id='title-overview-widget']/div[1]/div[2]/div/div[2]/div[2]/div/time\").text)\n",
    "        # Type of Movie\n",
    "        film.append(browser.find_element_by_xpath(\"//*[@id='title-overview-widget']/div[1]/div[2]/div/div[2]/div[2]/div/a[1]\").text)\n",
    "        #date\n",
    "        film.append(browser.find_element_by_xpath('//*[@id=\"titleYear\"]').text)\n",
    "    except:\n",
    "        pass\n",
    "\n",
    "        "
   ]
  },
  {
   "cell_type": "code",
   "execution_count": 8,
   "metadata": {},
   "outputs": [
    {
     "name": "stdout",
     "output_type": "stream",
     "text": [
      "https://www.imdb.com/title/tt12361974/?pf_rd_m=A2FGELUUNOQJNL&pf_rd_p=ea4e08e1-c8a3-47b5-ac3a-75026647c16e&pf_rd_r=0SW5Y7461QS82EYNSGAX&pf_rd_s=center-1&pf_rd_t=15506&pf_rd_i=moviemeter&ref_=chtmvm_tt_1\n",
      "https://www.imdb.com/title/tt6802400/?pf_rd_m=A2FGELUUNOQJNL&pf_rd_p=ea4e08e1-c8a3-47b5-ac3a-75026647c16e&pf_rd_r=0SW5Y7461QS82EYNSGAX&pf_rd_s=center-1&pf_rd_t=15506&pf_rd_i=moviemeter&ref_=chtmvm_tt_2\n",
      "https://www.imdb.com/title/tt0974015/?pf_rd_m=A2FGELUUNOQJNL&pf_rd_p=ea4e08e1-c8a3-47b5-ac3a-75026647c16e&pf_rd_r=0SW5Y7461QS82EYNSGAX&pf_rd_s=center-1&pf_rd_t=15506&pf_rd_i=moviemeter&ref_=chtmvm_tt_3\n",
      "https://www.imdb.com/title/tt9130508/?pf_rd_m=A2FGELUUNOQJNL&pf_rd_p=ea4e08e1-c8a3-47b5-ac3a-75026647c16e&pf_rd_r=0SW5Y7461QS82EYNSGAX&pf_rd_s=center-1&pf_rd_t=15506&pf_rd_i=moviemeter&ref_=chtmvm_tt_4\n"
     ]
    }
   ],
   "source": [
    "for f in films[:]:\n",
    "    print(f[0])"
   ]
  },
  {
   "cell_type": "code",
   "execution_count": 9,
   "metadata": {},
   "outputs": [],
   "source": [
    "# from selenium.webdriver.common.action_chains import ActionChains\n",
    "\n",
    "# reviews=[]\n",
    "# for f in films[:]:\n",
    "    \n",
    "#     browser.get(f[0])  ## Link of the movie\n",
    "#     link = browser.find_element_by_link_text('USER REVIEWS')\n",
    "#     link.click()\n",
    "#     time.sleep(2)\n",
    "    \n",
    "    \n",
    "# #     Lm=browser.find_element_by_class_name(\"ipl-load-more__button\").text()\n",
    "# #     if lm=='Load More':\n",
    "# #     browser.find_element_by_class_name(\"ipl-load-more__button\").click()\n",
    "# #     time.sleep(2)\n",
    "        \n",
    "# #     else:\n",
    "# #         pass\n",
    "# #     menu= browser.find_elements_by_xpath(\"//div[@class='header']\")\n",
    "# #     ActionChains(browser).move_to_element(browser.find_elements_by_xpath(\"//div[@class='header']\")).click(browser.find_elements_by_xpath(\"//div[@class='header']\")).perform()\n",
    "    \n",
    "    \n",
    "#     rev=browser.find_elements_by_class_name(\"review-container\")\n",
    "    \n",
    "#     for i in rev:\n",
    "#         try:                                                    # feteching details inside the review container\n",
    "#             review=[]\n",
    "#             #movie_name\n",
    "#             review.append(f[1])  # Name of the movie\n",
    "#             #username\n",
    "#             review.append(browser.find_element_by_xpath(\"//*[@class='display-name-link']\").text)\n",
    "#             #date_review\n",
    "#             review.append(browser.find_element_by_xpath(\"//*[@class='display-name-link']/following::*[1]\").text)\n",
    "#             #title_review\n",
    "#             review.append(rev.find_element_by_class_name(\"title\").text)\n",
    "#             #comment\n",
    "#             review.append(browser.find_element_by_xpath(\"//*[contains(@class, 'text show-more__control')]\").text)\n",
    "#             reviews.append(review)\n",
    "#         except:\n",
    "#             pass\n",
    "        \n",
    "        \n",
    "    "
   ]
  },
  {
   "cell_type": "code",
   "execution_count": 10,
   "metadata": {},
   "outputs": [],
   "source": [
    "from selenium.webdriver.common.action_chains import ActionChains\n",
    "from selenium.webdriver.common.keys import Keys\n",
    "reviews=[]\n",
    "for f in films[:]:\n",
    "    \n",
    "    browser.get(f[0])  ## Link of the movie\n",
    "    link = browser.find_element_by_link_text('USER REVIEWS')\n",
    "    link.click()\n",
    "                                            #load mores-----> For Loading more Numbers of review Comment we can increase the loop\n",
    "#     for i in range(0,1):\n",
    "#         try:\n",
    "#             browser.find_element_by_class_name(\"ipl-load-more__button\").click()\n",
    "#             time.sleep(2)\n",
    "#         except:\n",
    "#             break\n",
    "    actions = ActionChains(browser)\n",
    "    actions.send_keys(Keys.PAGE_DOWN)\n",
    "    actions.perform()                                                              \n",
    "    time.sleep(1)\n",
    "    actions = ActionChains(browser)\n",
    "    actions.send_keys(Keys.PAGE_UP)\n",
    "    actions.perform()  \n",
    "    time.sleep(1)\n",
    "                                                                            # contains all the comments-review\n",
    "    revs= browser.find_elements_by_class_name(\"review-container\")\n",
    "#   \n",
    "    c=0\n",
    "    for rev in revs:\n",
    "        c+=1\n",
    "#         time.sleep(1)\n",
    "        try:                                                    # feteching details inside the review container\n",
    "            ho=[]\n",
    "            #movie_name\n",
    "            review.append(f[1])  # Name of the movie\n",
    "            #username\n",
    "            review.append(rev.find_element_by_class_name(\"display-name-link\").text)\n",
    "            #date_review\n",
    "            review.append(rev.find_element_by_class_name(\"review-date\").text)\n",
    "            #title_review\n",
    "            review.append(rev.find_element_by_class_name(\"title\").text)\n",
    "            #comment\n",
    "            review.append(rev.find_element_by_xpath(\"(//*[contains(@class, 'text show-more__control')])[\"+str(c)+\"]\").text)\n",
    "            reviews.append(review)\n",
    "        except:\n",
    "            pass"
   ]
  },
  {
   "cell_type": "code",
   "execution_count": 11,
   "metadata": {},
   "outputs": [
    {
     "data": {
      "text/plain": [
       "25"
      ]
     },
     "execution_count": 11,
     "metadata": {},
     "output_type": "execute_result"
    }
   ],
   "source": [
    "len(revs)"
   ]
  },
  {
   "cell_type": "code",
   "execution_count": 12,
   "metadata": {
    "scrolled": true
   },
   "outputs": [
    {
     "data": {
      "text/plain": [
       "100"
      ]
     },
     "execution_count": 12,
     "metadata": {},
     "output_type": "execute_result"
    }
   ],
   "source": [
    "len(reviews)"
   ]
  },
  {
   "cell_type": "code",
   "execution_count": 20,
   "metadata": {},
   "outputs": [],
   "source": [
    "# type(reviews)\n",
    "\n",
    "# df=pd.DataFrame(review,columns=['reviews'])"
   ]
  },
  {
   "cell_type": "markdown",
   "metadata": {},
   "source": [
    "## Analyzing the Data Before Cleaning"
   ]
  },
  {
   "cell_type": "code",
   "execution_count": 13,
   "metadata": {},
   "outputs": [
    {
     "data": {
      "text/plain": [
       "[[\"Zack Snyder's Justice League (2021)\",\n",
       "  'saayanbiswas',\n",
       "  '18 March 2021',\n",
       "  'Restoring the Synderverse is Essential Now!',\n",
       "  \"The movie will make us connected with Victor Stone and Clark Kent very deeply. I felt goosebumps and even got a bit emotional at a few points. It's a must watch for all superhero movie lovers. The release of this movie is revolutionary and hats off to Zack Snyder. Now I'm eagerly waiting for the Synderverse to be restored.\"],\n",
       " [\"Zack Snyder's Justice League (2021)\",\n",
       "  'rajon07',\n",
       "  '18 March 2021',\n",
       "  'This is the Justice League movie we deserve',\n",
       "  'As a life long comic fan, DC characters are more close to my heart than Marvel characters. The first making of this film was just disappointing. It seems like there are bunch of idiots sitting on the WB executive positions who have no vision at all. The first film was literally incomplete. This one tells the full story and I must say nicely. This is the movie we, all the fans wanted and deserve.'],\n",
       " [\"Zack Snyder's Justice League (2021)\",\n",
       "  'RinoBortone91',\n",
       "  '19 March 2021',\n",
       "  'JUSTICE FOR THE JUSTICE LEAGUE HAS BEEN SERVED',\n",
       "  \"Zack Snyder's Justice League is one of the best-made and most successful DC films without a shadow of a doubt, thanks again to His Highness Zack Snyder. The visionary director manages, through the undaunted and determined flow of fans with the #releasethesnydercut movement, to bring his spectacular vision of the Justice League, presenting a spectacular film with parsimony and dedication, as only a true DC fan can do. Not only the film is deepened with a wealth of filmed material that no one ever imagined existed, but it manages to redeem itself and to fight with tight fists the previous Justice League (2017) which was a total and a colossal flop in every aspect (not Snyder's fault, of course). In this Snyder Cut all the questions that the Theatrical Cut did not give are answered, digging into the background of the characters and giving valid reasons where it seemed everything was thrown into turmoil and even randomly placed; moreover, the full potential of Snyder's direction is expressed through his unique and particular shots, also implementing and improving both CGI and cinematography, which are the perfect accompaniment to the director's vision. The four hours of the Snyder Cut are nothing more than a blaze of beauty towards these heroes, where with the old release seemed all too strange that they (production & co.) had offered so little from such a talented and resourceful director. Recall that the Snyder Cut must be contextualized and must be interposed in a timeline that had precedents and sequels in the DC Extended Universe, but now it is all to be reviewed, all to be rewritten, all to be reset. This film, as well as citing a similar case (although not entirely), namely The Godfather III Coda, totally redeems the film, putting everything in a new light, entrancing both fans and insiders and in doing so recreating a films from 0 (in fact much of the Theatrical Cut material is not present), bringing to light aspects never seen before and better set together and doing so, finally, being meaningful. Commendable and mouth-watering movie to learn more and that opens up worlds as well as in DC comics. Bravo Zack Snyder, Bravo. Justice has been served for the Justice League.\"],\n",
       " [\"Zack Snyder's Justice League (2021)\",\n",
       "  'eloybeugelink',\n",
       "  '18 March 2021',\n",
       "  'Superheroes Unite!',\n",
       "  'Yesss, thank you Zack Snyder! THIS is the movie the DC heroes deserved... And the fans as well!\\n\\nIt\\'s an amazing continuation on \"Man Of Steel\" and \"Batman V Superman\" and the story is splendid this way. Character arcs, worldbuilding, awesome effects... Note to Warner Bros: let Snyder continue this franchise. He really knows what he\\'s doing!'],\n",
       " [\"Zack Snyder's Justice League (2021)\",\n",
       "  'obaashaolu',\n",
       "  '18 March 2021',\n",
       "  'We need this to be cannon',\n",
       "  ''],\n",
       " [\"Zack Snyder's Justice League (2021)\",\n",
       "  'muhammadtalha-70365',\n",
       "  '18 March 2021',\n",
       "  'Felt literal goosebumps.',\n",
       "  'No words can describe the experience. Seeing all the struggle come into life makes it amazing. Hundred times better than the theatrical cut.'],\n",
       " [\"Zack Snyder's Justice League (2021)\",\n",
       "  'deeformecreep',\n",
       "  '18 March 2021',\n",
       "  'It leaves you asking for more!',\n",
       "  'Zack Snyder delivers by far his best film with Justice League. The film has an engaging story with a lot of heart and a great cast of characters who all have good chemistry together standouts being Ezra Millers Flash and Ray Fishers Cyborg. The film also has many easter eggs and cameos fans of the comics will recognize. Honestly as a big fan of DC this is my favorite DCEU film.'],\n",
       " [\"Zack Snyder's Justice League (2021)\",\n",
       "  'kjaswanth-41269',\n",
       "  '18 March 2021',\n",
       "  'Finally we got what we deserve from Zack Snyder',\n",
       "  'I am so happy that this film filled all the broken points of 2017 justice league. Zack Snyder just gave us the dark tone DC. A 4 hour fascinating visuals. Waiting for a sequel .'],\n",
       " [\"Zack Snyder's Justice League (2021)\",\n",
       "  'monjura-07580',\n",
       "  '22 March 2021',\n",
       "  'Can we please get Justice League 2?!',\n",
       "  \"Zack Snyder's Justice League was an amazing movie! This was much needed to help us forget 2017 release (thank God!) Yes the movie is nearly 4hours long but its worth it.\\n\\nI really hope Zack Snyder agrees to make Justice League 2\"],\n",
       " [\"Zack Snyder's Justice League (2021)\",\n",
       "  'jasmeetgaba77',\n",
       "  '18 March 2021',\n",
       "  'The superhero collaboration movie should be atleast 3 hours long',\n",
       "  'The longer they are, the more time they get to set up the story The pace is perfect The stories of each character is perfectly timed Nothing feels rushed and the dark theme just ups the game Justice has finally been done to the reputation of justice league'],\n",
       " [\"Zack Snyder's Justice League (2021)\",\n",
       "  'delpierokavinda',\n",
       "  '18 March 2021',\n",
       "  'Great art',\n",
       "  'The story of \"Man of Steel\" and \"Batman vs. Superman\" is continued in this movie in such an epic way. This is totally different than the theatrical version. The visual storyline and cinematography is so unique and it\\'s perfect. Character buildup, plot, humor, climax, emotions in the movie is so great. It\\'s a sight for sore eyes.'],\n",
       " [\"Zack Snyder's Justice League (2021)\",\n",
       "  'GeorgeJL',\n",
       "  '18 March 2021',\n",
       "  \"It's something special.\",\n",
       "  'Zack snyder is a genius. This movie is beautifully crafted, everything in this movie is 10/10.'],\n",
       " [\"Zack Snyder's Justice League (2021)\",\n",
       "  'vprajapat',\n",
       "  '23 March 2021',\n",
       "  'WB, Are You drunk',\n",
       "  'Restore Snyderverse, Otherwise Boycott All WB movies.'],\n",
       " [\"Zack Snyder's Justice League (2021)\",\n",
       "  'aminussh',\n",
       "  '18 March 2021',\n",
       "  'Incredible, far better than previous cut',\n",
       "  \"Zack snyder's justice league is far better than theatrical cut, in every way you can think of, steppenwolf is an actual threat now, his cgi is great, he has a clear goal, but cyborg is the heart of the movie and one of the best characters, Snyder did each hero justice, and flash powers are incredible and mind-blowing, Wonder woman is nothing like what we've seen in ww84, she is a valiant warrior and badass character, I really liked how they portrayed darkseid and paved the way for a potential JL2, he is an absolute great villain, and junkie xl music is really epic and great, overall 9/10 for this movie, I just had one problem with it: too much slow-motions NOW, it's time to RESTORE THE SNYDERVERSE\"],\n",
       " [\"Zack Snyder's Justice League (2021)\",\n",
       "  'amzadhossain-67539',\n",
       "  '18 March 2021',\n",
       "  'Awesome movie.',\n",
       "  \"I loved the movie from the beggining to the end.Just like Ray fisher said,I was hoping that the movie doesn't end. The begging scene was mind blowing, liked that scene very much. Unlike 'the Justice League' the movie show every hero is best at their own thing, make us love every charecters. Thanks Zack and the whole team.\"],\n",
       " [\"Zack Snyder's Justice League (2021)\",\n",
       "  'jozsef-13295',\n",
       "  '18 March 2021',\n",
       "  \"Finally, it's been set straight\",\n",
       "  'Gonna keep this short. It was worth the wait, you are stupid to look past this one, despite the history of some DCU movies'],\n",
       " [\"Zack Snyder's Justice League (2021)\",\n",
       "  'fmkc1',\n",
       "  '18 March 2021',\n",
       "  'Absolute masterpiece following Man Of Steel and BvS',\n",
       "  'It is more than fans wanted from SnyderCut, it is visually pleasing and amazing cinematography along with a spectacular fresh score by Tom Holkenborg, 4 hours pass by so fast making us want more of SnyderVerse Taste.'],\n",
       " [\"Zack Snyder's Justice League (2021)\",\n",
       "  'alshaherahmad',\n",
       "  '18 March 2021',\n",
       "  'One of the greatest comic book movies ever !',\n",
       "  ''],\n",
       " [\"Zack Snyder's Justice League (2021)\",\n",
       "  'cjosty',\n",
       "  '18 March 2021',\n",
       "  'RESTORE THE SNYDER VERSE',\n",
       "  \"Zack Snyder's Justice League is an EPIC in every sense of the word. From its incredible set peices to it's expertly crafted story telling this is the best film yet to come out of the DCEU (even though it's said not to be cannon) It's a complete satisfying package that leaves some interesting story threads. I'm hoping we now get Zacks JL2 and JL3 in the future. Because one things for sure now more than ever we will all be fighting for WB to Restore The Snyder Verse! Thank you Zack Snyder for showing us your amazing vision.\"],\n",
       " [\"Zack Snyder's Justice League (2021)\",\n",
       "  'rrwhite_rikimaru',\n",
       "  '18 March 2021',\n",
       "  'Zack is legend #restoresnyderverse',\n",
       "  ''],\n",
       " [\"Zack Snyder's Justice League (2021)\",\n",
       "  'suryajijvania',\n",
       "  '18 March 2021',\n",
       "  'More Parts',\n",
       "  \"It's master piece by Zack please part 2,3,4 also& Man of steel 2nd part\"],\n",
       " [\"Zack Snyder's Justice League (2021)\",\n",
       "  'shishirkmr-82243',\n",
       "  '18 March 2021',\n",
       "  \"It's a fantastic movie\",\n",
       "  \"No words to describe. It's awesome. One of the best superhero I would say\"],\n",
       " [\"Zack Snyder's Justice League (2021)\",\n",
       "  'moizsyed-07601',\n",
       "  '18 March 2021',\n",
       "  'Awesome out standing!',\n",
       "  'Far better than previous one and better editing for graphics'],\n",
       " [\"Zack Snyder's Justice League (2021)\",\n",
       "  'mmuradali-65680',\n",
       "  '18 March 2021',\n",
       "  'The best DC movie till date',\n",
       "  \"Overall Opinion- Although the competitors Marvel have a well organised way of strategic movie releases and have excelled till date.This DC movie is just marvellous that even a neutral comic book audience can enjoy and also the characters in this movie are thoroughly portrayed their personalities and their motives are clear unlike the predecessor of this movie making it a perfect version of a movie.\\n\\nReview- The movie has a strong sense of the impact created from the previous movie and also how the world revolves around the impact is clearly shown very early itself. The pacing of the movie is excellent so much so that it doesn't seem like a 4 hour movie.If Marvel fans want to compare pacing lets just say being a neutral comic book fan myself the pacing can be compared to The Winter Soldier which is one the best movies too. Each characters motives including the antagonist are clearly portrayed and the story telling is so compelling that u feel for those characters. CGI is great in many scenes but only in some scenes are where u can have a lacking sense but overall it was good. This movie actually feels like a compelling story of a comic book rather than its predecessor which felt like a popcorn movie. It had a great beginning and a end where u want more of it and the character development was excellent throughout. A Great movie for the fans who waited for years and a good compelling story driven movie for the neutral comic book audience .\"],\n",
       " [\"Zack Snyder's Justice League (2021)\",\n",
       "  'samun_shrestha',\n",
       "  '18 March 2021',\n",
       "  'EPIC',\n",
       "  'Why did the studio say no to this masterpiece? Like seriously? Why? I mean like Why? There needs to be an investigation regarding this.'],\n",
       " ['Coming 2 America (2021)',\n",
       "  'marymcfarland-01866',\n",
       "  '7 March 2021',\n",
       "  'All the Bad Reviews are Correct',\n",
       "  \"Good God....this was a terrible movie. I made it halfway through and then I couldn't take it anymore. The storyline is ridiculous, the Leslie Jones, Wesley Snipes and whoever the hell the son is characters are intolerable. This movie is not even a little bit funny...I mean...jeez. Everything about this stupid sequel is an insult to the excellent original film. What a disappointment.\"],\n",
       " ['Coming 2 America (2021)',\n",
       "  'Linda1973',\n",
       "  '5 March 2021',\n",
       "  'Horribly Disappointing',\n",
       "  \"The movie looks cheap with some bad and obvious CGI. There is no charm like the original had. The actors seem like they're doing an imitation of their characters, if that makes sense. Too many lame and recycled jokes. And there was a strange scene near the beginning that felt totally out of place where they jam Morgan Freeman, En Vogue, Salt N Peppa and Gladys Knight all into a five minute period that felt horribly forced and painfully unfunny. Which pretty much sums up the whole movie...horribly forced and painfully unfunny.\"],\n",
       " ['Coming 2 America (2021)',\n",
       "  'debellum',\n",
       "  '7 March 2021',\n",
       "  'Not good',\n",
       "  'Best thing about this movie is that it brings back all of the actors. Worst thing about this movie is the movie. Great idea but horrible storyline.'],\n",
       " ['Coming 2 America (2021)',\n",
       "  'kmckienz',\n",
       "  '5 March 2021',\n",
       "  'They tried.',\n",
       "  'I appreciate the plethora of cast that returned for the sequel, but the humor fell flat for me. It was predictable and failed trying to recreate the humor of the first movie. The CGI left a lot to be desired as well.\\n\\nI hated giving this low of a rating, but it is what it is. Perhaps others will like it more.'],\n",
       " ['Coming 2 America (2021)',\n",
       "  'ray-68402',\n",
       "  '15 March 2021',\n",
       "  'Believe the reviews',\n",
       "  'Yes, this movie is awful, but I still put a very good deal of thought into coming up with a list of things are redeeming about this movie and make it still worth watching if you have not yet done so. Here is that list:\\n\\n1.'],\n",
       " ['Coming 2 America (2021)',\n",
       "  'wjxmjwn',\n",
       "  '11 March 2021',\n",
       "  'Physical Pain',\n",
       "  \"This film actually hurt my soul to watch.\\n\\nIf you haven't watched it yet, avoid at all costs. If you're half way through and you've come here hoping the rest of the world feels the same way then don't worry, yes we do. Turn it off.\\n\\nIf you're like me and you reached the end then listen - we won't get that time back but that's ok. Some things in life come to test us, like this very, very poor part 2. It's made me a more humble and patient person. Thank you for that Eddie. But don't you DARE make a feature length sequel to Trading Places.\"],\n",
       " ['Coming 2 America (2021)',\n",
       "  'doug-33267',\n",
       "  '5 March 2021',\n",
       "  'I watched it... It ended... I immediately forgot it...',\n",
       "  \"I never expected it to be better than the original or even close. Even in today's movie world they could have done it better. Love the actors. Yet again I'm left asking myself, Am I the only one that feels that these money grabs take a little bit of the magic away from the originals?\"],\n",
       " ['Coming 2 America (2021)',\n",
       "  'yaplex',\n",
       "  '8 March 2021',\n",
       "  \"Can't watch this movie\",\n",
       "  'It is not funny at all. Nothing comparing to the original movie. Jokes are stupid.'],\n",
       " ['Coming 2 America (2021)',\n",
       "  'mosurataksaichan',\n",
       "  '5 March 2021',\n",
       "  'Is this really a sequel?',\n",
       "  ''],\n",
       " ['Coming 2 America (2021)',\n",
       "  'custar55',\n",
       "  '5 March 2021',\n",
       "  'Dammit!',\n",
       "  \"Only good part was the barbershop scene. This movie needed Darryl, soul glo, more McDowells and a different reason to come back to America. They were in America for 5 minutes. Looking so forward to this movie and it sucked. Leslie Jones and Tracy Morgan were not needed in this movie either. You screwed up Eddie. Arsenio's character was nothing like the first movie. More annoying that funny.\"],\n",
       " ['Coming 2 America (2021)',\n",
       "  'osrbill',\n",
       "  '7 March 2021',\n",
       "  'Worst Sequel Ever !',\n",
       "  'Way too much time passed where this could have made any sense. The original movie was brilliant and they wrecked it for me. quit while you ahead ! Flat out too many cheap CGI effects. Story line sucked ! Watch it if you want to waste your time.'],\n",
       " ['Coming 2 America (2021)',\n",
       "  'garrettbaroni',\n",
       "  '5 March 2021',\n",
       "  'Tired. Mostly unfunny.',\n",
       "  'Very very disappointing. The son character is cringe worthy'],\n",
       " ['Coming 2 America (2021)',\n",
       "  'halem-193',\n",
       "  '14 March 2021',\n",
       "  'Shame On Everyone Involved',\n",
       "  'Shame on the actors, shame on the actresses, shame on the director, shame on the producer, shame on the studio and shame on me and you for watching.\\n\\nLiterally every single person I named and every single person involved knew this sucks, the script sucks, it is not funny, it drags down its prequel sand still went ahead. There cannot be one person who read this script or the proposal for this film and thought it is good or funny. Yet, the project proceeded. They even bagged all the original cast who surely definitely clearly must have known this sucks (because they were in the original).\\n\\nClearly, respect, quality, talent or reason are not important or considered.\\n\\nDo not watch this unrelated and unfunny film. Have extra time on your hands? Watch the original again - or better yet go for a jog or fast walk to lose weight.'],\n",
       " ['Coming 2 America (2021)',\n",
       "  'ducativiper',\n",
       "  '7 March 2021',\n",
       "  'This is the best they could do?',\n",
       "  \"I give them credit for bringing back nearly everyone from the first one but that's about it. I don't understand why movies are lacking these days. It is completely forgettable and there's no worse way to describe a story than forgettable.\"],\n",
       " ['Coming 2 America (2021)',\n",
       "  'Smartfox32',\n",
       "  '5 March 2021',\n",
       "  'AWFUL!',\n",
       "  \"This movie doesn't even deserve a review. Pure and utter trash.\"],\n",
       " ['Coming 2 America (2021)',\n",
       "  'breadgunner-94454',\n",
       "  '6 March 2021',\n",
       "  'Leslie Jones ruined it.',\n",
       "  \"The first movie was awesome because it had great flow so didn't need constant loud irritating jokes. This sequel is ok until Leslie Jones turns up to constantly interrupt it by being a vulgar loud mouth every 4 minutes.\\n\\nI waited 30 years for this movie and Leslie Jones ruined it in 60 seconds.\"],\n",
       " ['Coming 2 America (2021)',\n",
       "  'mikeadams-87293',\n",
       "  '5 March 2021',\n",
       "  'As expected.',\n",
       "  'Terrible sequel and an insult to the original. I only endured the full 2 hours as I was in hope it could redeem some value towards the end. Alas, I was not rewarded for this. It was all dreadful.\\n\\nThe best part of the movie was the small amount of outtakes during the end credits, they gave more joy than the movie itself.\\n\\nAvoid this and rewatch the original.'],\n",
       " ['Coming 2 America (2021)',\n",
       "  'fishybowl',\n",
       "  '5 March 2021',\n",
       "  'Straight to video',\n",
       "  \"If this was the 90's , the only place you could find this ,is at the close out shelf at the video store .\"],\n",
       " ['Coming 2 America (2021)',\n",
       "  'drenglish',\n",
       "  '5 March 2021',\n",
       "  \"Nostalgia doesn't make up for lack of story.\",\n",
       "  ''],\n",
       " ['Coming 2 America (2021)',\n",
       "  'michealchristou',\n",
       "  '11 March 2021',\n",
       "  'WORST',\n",
       "  \"This movie must me some kind of joke, but it ain't funny if you know what I mean.\"],\n",
       " ['Coming 2 America (2021)',\n",
       "  'LmH82',\n",
       "  '5 March 2021',\n",
       "  'Nope.....',\n",
       "  \"Really disappointing, tried too hard to be something it could never be, looked really cheap and rushed..... thirty years later... the Lion says it all... So glad the cinemas aren't open here in Scotland, what a waste.\"],\n",
       " ['Coming 2 America (2021)', 'aseven-18331', '24 March 2021', 'Not Good.', ''],\n",
       " ['Coming 2 America (2021)',\n",
       "  'nikmcrae',\n",
       "  '7 March 2021',\n",
       "  \"Don't even bother.\",\n",
       "  ''],\n",
       " ['Coming 2 America (2021)',\n",
       "  'jonreastwood',\n",
       "  '7 March 2021',\n",
       "  'Terrible. Even without Covid, this is straight to video/streaming stuff',\n",
       "  ''],\n",
       " ['Coming 2 America (2021)',\n",
       "  'randyfabiano',\n",
       "  '5 March 2021',\n",
       "  'I loved the first the 2nd was terrible',\n",
       "  'I turned it off. This is what happens when sequels dont have great writers. Total flop. Watched half way and was like what else is on. I truly loved the first the second was literally one of the worst eddie murphy films ever. Its almost as if CW said lets make another and try to be hip. Totally dumb and a waste of time and studio dollars'],\n",
       " ['Justice League (2017)',\n",
       "  'syber192-1',\n",
       "  '20 March 2021',\n",
       "  'Just saw the Snyder cut, and this is embarrassing',\n",
       "  'No plot, no heart, no sense whatsover. I hope WB understand that in order to create a universe you need to give the characters background, time to evolve and to actually give a ****about them. They just introduce Batman and the rest of the Justice League as if we already knew them. The Avengers worked because we they had a background story to each character. This is souless.'],\n",
       " ['Justice League (2017)',\n",
       "  'nothimme',\n",
       "  '26 July 2018',\n",
       "  'Just a shattered movie with no heart and identity',\n",
       "  ''],\n",
       " ['Justice League (2017)',\n",
       "  'srivineet',\n",
       "  '27 March 2021',\n",
       "  'SNYDER CUT ROCKS',\n",
       "  \"Please be careful while releasing the movie... don't cut essential scenes important to the movie.\"],\n",
       " ['Justice League (2017)',\n",
       "  'd-beckton',\n",
       "  '23 November 2017',\n",
       "  'Warner Bros. should be ashamed of themselves.',\n",
       "  ''],\n",
       " ['Justice League (2017)',\n",
       "  'TheMovieDiorama',\n",
       "  '25 February 2018',\n",
       "  'Justice League is, unfortunately, plagued with post-production issues.',\n",
       "  'Here we are. The Justice League. DC\\'s greatest superheroes come together to save the world...and what is the first scene you ask? Henry Cavill\\'s CGI\\'d shaved face. Ohhh dear...yup...we\\'re in for quite a ride. So with Superman dead, Batman and Wonder Woman must arrange a team of gifted individuals to stop the world destroyer Steppenwolf from, you guessed it, destroying the world. Sighhhh...I kinda just want to hug this film and repeatedly whisper \"there, there...it\\'ll all be alright.\". Apprehensively, I went into this unmotivated and expecting the worst superhero film since Suicide Squad. Fortunately, this isn\\'t that bad. But, it\\'s not great either. The film\\'s greatest achievement is the coalition of the Justice League members. Their interactions, mannerisms and even their physicality was pretty much on point. Aquaman, although absolutely useless in this, had the physical prowess of a beastly underwater warrior. The Flash was quirky and provided several comedic moments. Cyborg was essentially the technological logistics manager. Wonder Woman and Batman were the parents who lead their children into battle. Heck, she even refers to them as children! Yet it all worked so well. Remember, this is a comic book adaptation, so the humour and light hearted nature of its source material does show. The human CGI for the most part was actually executed well (far better than \"Thor Ragnarok\") and the slow motion scenes with The Flash were gorgeous to watch. Snyder is typically style over substance, which is apparent here. The story is so boringly uninspired that it defines the word \"lazy\". I cannot be dealing with another \\'save the world\\' situation. I\\'m also becoming irritated with underused, bland and weak villains who are supposed to be absurdly powerful. Steppenwolf was wasted potential. Constant use of green screen, hit and miss script, rushed third act...just too many flaws I\\'m afraid. Was it too soon for a Justice League film considering no origins for Aquaman, The Flash and Cyborg yet? Personally, I think so.'],\n",
       " ['Justice League (2017)',\n",
       "  'darkmoonuk',\n",
       "  '21 April 2018',\n",
       "  'Incoherent cgi gibberish.',\n",
       "  \"Might as well watch the cut scenes from a video game, the cgi was poorly implemented. The villain absolutely pointless. Superman's Resurrection wasted, why not give him a few movies to find a villain worthy and build suspense?\\n\\nEach of the characters in twisted to ape the Avengers in their roles, especially Flash/Spidey but with non of the depth.\\n\\nTruly a pointless exercise and a wasted opportunity, spare yourself the disappointment. How it is an 8+ on here discredits IMDb\\n\\nSuch a shame. :(\\n\\np.s the CGI really is that bad . . .\"],\n",
       " ['Justice League (2017)',\n",
       "  'gianlucatrovato',\n",
       "  '21 March 2021',\n",
       "  'Another movie assembled quickly and dirty like Suicide Squad',\n",
       "  ''],\n",
       " ['Justice League (2017)',\n",
       "  'vjnambu',\n",
       "  '11 February 2020',\n",
       "  '#releasethesnydercut',\n",
       "  \"I saw the theatrical version of justice league and felt it as a blatant copy of avengers. After that I saw it's first trailer before Snyder's exit, I felt how awesome it would be if the original version released. One element whedon forgot to add which was one of the reasons for the success of avengers is chemistry between the actors. Avengers had memorable chemistry of tony-cap, tony-banner, thor-hulk, nat-cap, nat-banner and nat-clint. But here there is no chemistry between the leads at all. Batman, aquaman and cyborg were wasted. Many hate Snyder's style but the fact is he does it with 💓. He had a clear vision about dceu with the 5 films (mos,bvs and JL trilogy) he had in mind. But after his exit the whole dceu is in mess. First, wb messed with bvs and now with JL. Please release the Snyder cut in hbo max.\"],\n",
       " ['Justice League (2017)',\n",
       "  'Matrix_Becker',\n",
       "  '17 November 2017',\n",
       "  'What is so expensive?',\n",
       "  'I saw the Film last night and i have not an answer for what they need an budget of 300.000.000 USD. Ugly low-detail locations and semi effects. And this is the end of the world? Roland Emmerich would cry for this crap.\\n\\nthe rest of the film is very casual. not the best story so far and the villain is a big joke.'],\n",
       " ['Justice League (2017)',\n",
       "  'jayden-carlson2',\n",
       "  '16 November 2017',\n",
       "  \"Never thought i'd like BVS more than this, but i do.\",\n",
       "  ''],\n",
       " ['Justice League (2017)',\n",
       "  'ezramandela',\n",
       "  '17 November 2017',\n",
       "  'WHY Warner Brothers.....WHY?',\n",
       "  ''],\n",
       " ['Justice League (2017)',\n",
       "  'daftdwarf',\n",
       "  '16 November 2017',\n",
       "  'Dull',\n",
       "  'Justice League felt like going through a list of specifications with no identity whatsoever. It\\'s not a bad movie per se, it\\'s just extremely dull. Of course there\\'s nothing new in the photo department but that\\'s to be expected, it\\'s kind of an identity for the whole DCEU. I don\\'t like it but hey, that\\'s an artistic choice I won\\'t criticize here, at least it\\'s coherent. But some flaws are more crippling than that.\\n\\nEvery single characterization was a bit off and some of them felt like they were forced, especially Barry Allen. Still, the actors do the best they can with the material so it\\'s not unbearable.\\n\\nEvery situation (and even the chain of events) is so predictable (cliché even) that it gets you out of the movie. This level of \"nothing new\" is damaging to the story as it stops you from caring about anything. And it seems like the producers knew this cause they threw in the mandatory helpless family so that you could sense the danger a bit more. After all, it\\'s just the end of the world, how could you care if there was no kid in immediate danger ? Oh wait... Still, even that falls flat as their scenes (and they\\'re not the only ones) are filled with incoherent behaviors that were put there just so that the plot can go forward.\\n\\nI attended a screening where the only bursts of joy (or emotions at all) occurred when a new character appeared. Kind of a \"fanboy effect\" that fills you with hope at the sight of one of your beloved comics characters. But the rest of the time, everyone was quite bored and numerous sighs were heard. In a sense, it reassured me as I understood I was not the only one who was disappointed in the movie.\\n\\n*****The following paragraph might contain a minor SPOILER (depending on what you consider a spoiler)*****\\n\\nPlus, something else bothered me. But I know everyone won\\'t agree on this one cause it\\'s kind of a speculation. All the points above still stand even if I\\'m wrong about it. So here it is : Justice League felt like it was a failed attempt to adapt the Avengers in the DCEU. And I\\'m not talking about the strangely similar theme. Nor am I referring to the tension inside the team before they reconcile that felt like a watered-down version of what we saw in the 2012 movie by Whedon. But the characters are bent so that they match their Marvel counterparts. The Flash takes the place of the slightly weaker and wisecracking Hawkeye, Aquaman clearly corresponds to Thor with his royal and out-of-place persona, Wonder Woman goes through the same soldier- leader dilemma as Cap did and even Batman is slightly changed so that he\\'s closer to Tony Stark (making decisions that make absolutely no sense for the world\\'s best detective that we all know and love). That\\'s a shame cause DC characters are interesting and have a lot more to offer than a mere copy.\\n\\n*****END OF POSSIBLE SPOILER*****\\n\\nAs of 11/16/2017, this movie has an 8.1 score here on IMDb. Now I\\'m not a hater and won\\'t say it\\'s the worst movie in history but more than 8 ? Seriously ? It barely does the job so it\\'s a 5 out of 10 for me.'],\n",
       " ['Justice League (2017)',\n",
       "  'eddie_baggins',\n",
       "  '16 November 2017',\n",
       "  \"The Avenger's this is not\",\n",
       "  'You have to feel sorry for DC Comics.\\n\\nSure they\\'ve made more than a bucket load of cash with many of their releases, including of course this year\\'s box office behemoth and critical darling Wonder Woman, but overall the company has been living in the shadows of Marvel for a number of years now and have been late to the party when it comes to superhero team-up events until now.\\n\\nSuffering a troubled production that saw original director Zack Snyder depart the project late in the piece due to a family tragedy and replaced by Avenger\\'s mastermind Joss Whedon, Justice League has had a far from smooth run to cinemas, that includes the fact we\\'ve never truly been properly introduced to its new main players, Aquaman, The Flash and Cyborg, with DC keen to get this ensemble together as quickly as possible.\\n\\nConsidering all of this, Justice League is not what I\\'d call a \"bad\" movie, in the sense that I\\'d warn everyone against seeing it, but this often jumbled and sometimes just not that interesting blockbuster is still far from the all-round winner DC would\\'ve been hoping for with Snyder and Whedon\\'s film lacking both a genuinely good story arc (new villain Steppenwolf is just generic baddie 101 or even worse) and any true memorable set-pieces or set-ups.\\n\\nAt what feels like a fairly brisk 120 minute runtime, Justice League is always on the move as we initially get to witness the first meetings between this collection of new friends (the highlight of which is probably Ezra Miller\\'s pizza eating Barry Allen/The Flash) but with so many people, so many different arcs to play out, Snyder and Whedon struggle to bring it all home and action scenes often feel haphazard, some scenes feel rushed or unwanted (a Russian family is given far too much screen time), while all the films colourful characters don\\'t get the airtime they perhaps needed.\\n\\nAfter the middling response so far to his take on Batman, Affleck won\\'t be gaining or losing too many supporters here, the verdict is well and truly still out on Cavill\\'s take on Superman, while Gadot is once again great as Wonder Woman. Of the new cast Miller is a fine addition as the awkward Allen, Jason Momoa gives fans hope that his standalone Aquaman will be a lot of fun, while it\\'s surprising just how affecting Ray Fisher is as Cyborg even if his character doesn\\'t seem cut out to get his own standalone feature.\\n\\nIt\\'s a shame then that we don\\'t ever feel like this team is given the scenarios they needed to really gel together. There\\'s chemistry to be found here, even Cavill and Affleck benefit from the likes of Gadot and the new additions, their rather tiresome portrayals enlivened by the fresh, energetic nature of their co-stars but overall the film lacks an energy or pizazz that would\\'ve been the kicker to elevate this genuine middle of the road experience to something else entirely.\\n\\nFinal Say –\\n\\nAll in all huge fans of DC will be kept happy with this sometimes enjoyable, sometimes downright bad big screen culmination of hero\\'s and one badly CGI\\'d and generic villain.\\n\\nDevoid of anything of true note and without a memorable set-piece, Justice League is unquestionably the poor cousin of The Avenger\\'s but with the talented cast involved, there is enough hope here to suggest that this band of hero\\'s have some room to grow into something special if all the stars align.\\n\\n2 1/2 terrorised Russian families out of 5'],\n",
       " ['Justice League (2017)',\n",
       "  'Zingbot_9000',\n",
       "  '28 November 2017',\n",
       "  'A better video game then movie',\n",
       "  ''],\n",
       " ['Justice League (2017)',\n",
       "  'kalmarjerry',\n",
       "  '14 November 2017',\n",
       "  'They have become the very thing they criticize',\n",
       "  ''],\n",
       " ['Justice League (2017)',\n",
       "  'VVMini',\n",
       "  '18 February 2018',\n",
       "  \"There is so much wrong with this movie, it's difficult to know where to start.\",\n",
       "  \"Let's start with the most obvious weakpoint: the villain. Steppenwolf is a laughably bad villain, ripped straight out of a 90ies direct-to-DVD film. He is just a big bland CGI character with absolutely no personality whatsoever. He has no motivation other than being the generic evil guy trying to destroy the world. Apparently it's not even hís plan. If I understood correctly, he's the henchman for some other character that we never learn anything about. His entire design was just uninspired, and he looked and sounded more like a weaker version of the Beast from the live action Beauty and the Beast than one of the strongest characters in the world, hellbend on creating destruction.\\n\\nThen there are the problems with the entire way that DC is approaching these movies. Making this an ensemble movie, just like with Batman v Superman, feels entirely unearned and a cynical attempt to cash in on the widespread brand recognition of Batman and Superman, and to a slightly lesser degree Wonder Woman, and of course the success of Marvel. It's really hard to look at this film and not conclude that this is DC's failed attempt at creating their version of The Avengers.\\n\\nHowever, whereas The Avengers' meetup felt natural, having been build up throughout its previous 5 movies, Justice League decides to introduce half of the entire league in just this movie. This makes most of the first half of the movie an uneven and boring bunch of random character introductions. Only Wonder Woman and the segments on Themyscira felt natural, because we were already introduced to their culture before and therefore had some connection to them.\\n\\nThe rest of the Justice League itself is also lackluster. Jason Momoa's Aquaman was kinda interesting, but it once again feels incredibly cynical that they would introduce the character in this movie instead of in his own one, just because they knew that it would be hard to get people excited for an Aquaman standalone movie without an introduction to the character first. They don't care that it's to the detriment of the quality of this movie, it's just a way too get people to buy into a future film, exactly as they did with Wonder Woman. In this case they actually would have done well to look at Marvel, as they were able to introduce obscure and silly looking/sounding characters like Ant-Man and the Guardians of the Galaxy in standalone movies, and make it a critical and commercial success.\\n\\nCyborg was just boring and uninteresting. He has no personality, there's nothing to his character, because there was not enough time for a proper introduction. Even his suit is making the decisions for him sometimes. The CGI was also quite distracting, as his face looks rather fake.\\n\\nAnd of course while The Flash has been around for a long time, I find it hard to believe that they would have introduced his character the way they did without the success of Spider-Man in 2016's Civil War. He's pretty much an exact copy of Spider-Man, playing the teenage boy that is overenthuastic about being a superhero, and deriving humor from that.\\n\\nThey even found a way to make Batman look uncool. He's pretty much just collecting the team for most of the movie, and does very little on his own. What is most disappointing is that Ben Affleck is never really Bruce Wayne. Whenever you see him dressed normally on screen, it's just him doing Batman stuff without his suit on. Even Wonder Woman has a scene of her being Diana Prince, but it's all only Batman throughout.\\n\\nThen there's Superman, whose return was very poorly done. First of all, if you have a character that is supposedly dead, don't make the actor's name the second one to pop up on the opening credits. That's a surefire way to ruin any potential surprise about his return. Of course that return was inevitable and obvious, but at least put in a little bit of effort to hide that fact. I don't even have to put in spoiler tags in here because DC doesn't even consider his return a spoiler.\\n\\nSecondly, because his return was so quickly - halfway through the chronological follow up to the movie in which he died - there is absolutely no relief or emotional climax to his arc, or any sense of urgency, really. You never really care that Superman's death has supposedly thrown the world in disarray, because his death barely has had any time to have resonated with the viewers. Hell, his supposed death didn't even make it through the end of the previous movie without some hint of his upcoming return.\\n\\nIf they had some patience and balls, they would have had him stay dead for a few films, preferably those in which the rest of the Justice League got introduced, and in which the threats get increasingly challenging and hard to overcome due to Superman's absence. This way when he finally does return after the rest of the League is facing a truly frightening and unstoppable enemy, his come-back would feel earned.\\n\\nOverall, there's so much wrong with this movie that although I wrote so much, there are still many flaws left untouched (like Zach Snyder being Zach Snyder doing too many Zach Snyder things, or the nonsensical process of resurrecting Superman that actually put them in more danger than before). It's amazing that after the disaster that was Batman v Superman, they went pretty much the exact same route for its follow-up, setting up an illogical and unearned conflict and resolving it in a cliched and nonsensical manner.\\n\\nAt least Batman v Superman had some really cool action scenes instead of the uninteresting CGI fest that was Justice League. And while Jesse Eisenberg's Lex Luthor was a terrible villain, I'd take him over the soulless CGI monstrosity that is Steppenwolf any day of the week. Justice League is a terrible movie in every regard, and really does not bode well for the future of DC's cinematic universe.\"],\n",
       " ['Justice League (2017)',\n",
       "  'Nevermore333',\n",
       "  '20 November 2017',\n",
       "  'This series is so easy to get right and they keep doing all the wrong things.',\n",
       "  ''],\n",
       " ['Justice League (2017)', 'luan-penna', '16 November 2017', 'Just okay', ''],\n",
       " ['Justice League (2017)',\n",
       "  'amirmustafaa',\n",
       "  '17 November 2017',\n",
       "  \"DC Hasn't Learned from their Mistakes\",\n",
       "  \"I wanted to love this movie, but it suffers from the same mistakes as Batman v. Superman. The plot is jumpy and incoherent, the motivation for the characters are sloppy, and the CGI is lackluster at best. Plus, Henry Cavil's face looked off in this move; you can tell they did a bad job removing his mustache. This movie wasn't all bad though. I think the characters and their interactions with each other are the best thing about this movie, but the characters are failed by a terrible script and choppy editing. This movie also has a villain so boring that even Marvel would be jealous. I think Warner Bros. need to make big changes to the DCEU or it's doomed to fail.\"],\n",
       " ['Justice League (2017)',\n",
       "  'bajackman',\n",
       "  '19 March 2021',\n",
       "  'I Really Liked It',\n",
       "  \"Great movie as a stand alone but not in keeping with man of steel or BvS DC aren't building their characters the way Marvel did sadly\"],\n",
       " ['Justice League (2017)',\n",
       "  'snyperbladeaq',\n",
       "  '20 March 2021',\n",
       "  'Warner Brothers have no vision',\n",
       "  \"Watch the Zack Snyder's cut that movie makes sense and 1000 times better , this version is a unfinished junk and belongs in the rubbish bin, and ppl who run Warner brothers don't deserve dc universe.\"],\n",
       " ['Justice League (2017)',\n",
       "  'nakrugt',\n",
       "  '21 March 2021',\n",
       "  \"Watching the Snyder's Cut, so far nothing different...\",\n",
       "  \"Apparently, I did not write a comment on this, but now that I am watching the most-hyped Snyder's cut, I can honestly say, in the first half hour there has not yet been anything different.\\n\\nFYI for the DC villains for future reference: the warrior women wear pretty much only relatively larger breast-plates than normal and nothing else. So, you can cut their legs and arms off while fighting and there should be no more trouble in the future in terms of battles.\\n\\nJust a thought.\"],\n",
       " ['Justice League (2017)',\n",
       "  'john310',\n",
       "  '16 November 2017',\n",
       "  'No Justice Only league',\n",
       "  \"My rating of 1 does not indicate of how bad the movie quality is rather my disappoint with the ultimate result. My review doesn't comes out as a pure hate machine but rather due to the epic disappointment of one might feel after waiting for so long to witness the most epic team up quite possibly of this century to turn into a mediocre generic film.\\n\\nThis should've been the most epic saga in DCEU's continuity but alas rushing to compete with Disney finally took a toll on this franchise. The characters are well enough on their own but their development as individuals are rather paltry. The cinematography is awkward at times as evident from multiple re shoots done by Joss Whedon.\\n\\nThe CGI in some parts are terribly glaring to avoid and it feels too much green screen effect that makes your head hurt while watching in a dark room. Some are too bright while some are too dark. The color grading is very inconsistent with the background. As you all know Superman returns from the dead (which is kinda given at this point) but his resurrection isn't handled well enough. What should've been the rekindling of the hope people lost like the Rebirth of a Phoenix is marred by botched character interactions and idiotic dialogues.\\n\\nThe supporting characters such as Mera, Martha Kent and Alfred are wasted even further. One of the most highlighting parts of BVS was the interactions between Alfred and Bruce engaging in both morally and logical decisions. Sadly it's been reduced to banal banter between them and others. I'm not going to highlight the humor since it's overdone and doesn't fit organically in this film narrative. Humor is good and should be present but not forced and overstuffed like Disney films recently have become.\\n\\nThe villain is generic along with musical score by Danny Elfman which is just rehashing of the same old stuff. Wait for the 4K or bluray release to see edited scenes as consistent with DC's film which might be better.\"],\n",
       " ['Justice League (2017)',\n",
       "  'ig-bic',\n",
       "  '14 November 2017',\n",
       "  \"Every One Star or Ten Star is a lie, it's a good movie, not terrible, not amazing, good.\",\n",
       "  ''],\n",
       " ['Justice League (2017)',\n",
       "  'garethvk',\n",
       "  '15 November 2017',\n",
       "  'Better Than Expected But Deeply Flawed',\n",
       "  ''],\n",
       " ['Cherry (2021)',\n",
       "  'kabeyamarcelina',\n",
       "  '15 March 2021',\n",
       "  'Tom Holland absolutely smashed it',\n",
       "  \"Tom Holland's acting was phenomenal, 11/10. Showcased his true talent - magnificent. The Russo Brothers over did it with how they set things up though; trying to be too smart in my opinion.\"],\n",
       " ['Cherry (2021)',\n",
       "  'gotdayummm',\n",
       "  '18 March 2021',\n",
       "  'As a 2004 Iraq War Vet, This hits home.',\n",
       "  ''],\n",
       " ['Cherry (2021)',\n",
       "  'twilightmominohio',\n",
       "  '15 March 2021',\n",
       "  \"Don't listen to the critics!\",\n",
       "  \"I think people are forgetting that this movie is based a a semi-autobiographical novel written by Nico Walker. I first heard about this movie when my boyfriend had to remove some wires that were in the way for a scene they were filming back in early December of 2019. As Tom Holland fans, we were eagerly anticipating the release of this film. It's gritty, hard to watch at times, and highly emotional. The acting by Tom Holland and the rest of the cast was very well done. I've read reviews with titles saying if you're a veteran you're going to be angry. But again, this is based on a real life account of an Iraq veteran dealing with his PTSD after coming home to Cleveland. As a Clevelander, it was also interesting trying to recognize where some scenes were shot. The Russo brothers love their home town and we are grated they filmed it here, not elsewhere. Bottom line, don't listen to the critics. Superb acting by Holland and a wonderful adaptation of the book.\"],\n",
       " ['Cherry (2021)',\n",
       "  'gracerosadi',\n",
       "  '15 March 2021',\n",
       "  'Dark and Depressing, Nevertheless Powerful Performance by Holland',\n",
       "  \"This film took effort to watch, some scenes are tough and upsetting but it just prove how great and phenomenal Tom Holland as an actor in this film, he really did push his limits which makes it an oscar-worthy performance.\\n\\nThe film has great cinematography and unique storyline, but the subjects matter are very dark and gut-wrenching.\\n\\n7/10 for overall movie, 10/10 for Holland's performance alone.\"],\n",
       " ['Cherry (2021)',\n",
       "  'sammybeno',\n",
       "  '15 March 2021',\n",
       "  'Pretty damn good',\n",
       "  \"I don't understand the low ratings. All this film does is show how much range Tom Holland and the Russo brothers have, that their not confined to the Marvel movies. Just watch and form your own opinion. Its good.\"],\n",
       " ['Cherry (2021)',\n",
       "  'stone221',\n",
       "  '15 March 2021',\n",
       "  'Leaves you feeling something!!!',\n",
       "  'Excellent film. Acting and music score superb. Anyone with a hint of good taste will enjoy this film. The haters on this flick are probably tweens.'],\n",
       " ['Cherry (2021)',\n",
       "  'pienjbakker',\n",
       "  '12 March 2021',\n",
       "  'Amazing performance of Tom and Ciara!',\n",
       "  \"The movie Cherry gives you a amazing view about what soldiers go trought after the come back home. Tom's acting is so amazingly done in this role. And the connection he and Ciara had in the movie was so pure and real. Deff recomment watching it.\"],\n",
       " ['Cherry (2021)',\n",
       "  'egreskata',\n",
       "  '12 March 2021',\n",
       "  'Definitely worth a watch!',\n",
       "  \"Amazing performance from Tom Holland. I was so glad to see him nail a much more serious role as well as Spiderman. This movie, in my opinion, managed to portray PTSD and addiction in a way that it kept my whole attention from the beginning to the end. I even got goosebumps at some of the scenes, thanks to the music which is truly a masterpiece. Haven't read the books, but my advice is that the movie is worth watching at least once, the atmosphere of it is incredible!\"],\n",
       " ['Cherry (2021)',\n",
       "  'hockeylass-134-929537',\n",
       "  '3 March 2021',\n",
       "  'Watch it for yourself',\n",
       "  \"There's a lot of critics out there. And a lot of them seem very keen to slate this as much as possible, beyond what seems objectively reasonable.\\n\\nWhat I would say is this - ignore them all (good and bad) and make your own mind up. And remember this is very close to a true story, written by a man who fell down the darkest of holes having been failed by the systems and freedoms he swore to protect.\\n\\nCherry is just an ordinary guy. There's nothing remarkable about him. And the disordered start of this film (which I struggled with to be honest) reflects the erratic nature of his drifter existence.\\n\\nAs the film progresses the style falls into order and then back into disorder, reflecting the rollercoaster ride of Cherry's horrific wartime experience and descent into drug addiction as he struggles to erase what he saw. The Russo Brothers together with DOP Newton Thomas Sigel, use a range of clever tricks to put you in Cherry's boots. From colour tones to aspect ratios, it takes you from soft warm love to cold hard conditioning in an instant.\\n\\nI personally really enjoyed these choices, and look forward to watching it again to see what other details I might have missed on first viewing. I understand some people might feel that there's too much movie going on, but it was more than fine for me (all personal taste I guess!).\\n\\nThe acting from Tom Holland is exemplary and, at times, frightening. I cannot think what it must have been like to have to go to those places to portray the pain and fear he did and he should be applauded for taking such a leap with this role - he will always carry the weight of Spider-Man on his shoulders but he should be at least respected for wanting to branch out into challenging roles such as this. Ciara Bravo was excellent too, although I think I would have liked a bit more character arc from her (not her fault of course). I thought the supporting cast did well too in their roles - none of them particularly likeable (Jeff Wahlberg's Jimenez a rare exception) as they support and enable Cherry's demise.\\n\\nOverall, this is a movie which really stayed with me, it still does. It's eye-opening, it's desperately sad, and it's incredibly powerful.\"],\n",
       " ['Cherry (2021)',\n",
       "  'sailorman-12617',\n",
       "  '12 March 2021',\n",
       "  \"I don't understand the low ratings.\",\n",
       "  \"Very briefly: Cherry is a brilliant movie and a fitting translation of the story of a real person. The pacing feels chaotic at times, compared to traditional movies, because real stories aren't paced like screenplays. The cinematography is nothing short of stunning, and most of the events are ugly to give a hint of the ugliness that is being translated from real life to a book and to a movie. Tom Holland once again flexes his range as an actor, and the Russo Brothers continue to elevate cinema. Ciara Bravo didn't have too much to do in the movie, but I personally believe she aced her tonally contradicting scenes.\"],\n",
       " ['Cherry (2021)',\n",
       "  'cyer32',\n",
       "  '13 March 2021',\n",
       "  '6.3 ??!!',\n",
       "  \"This is a dark, haunting, and beautiful film. Not sure what movie some of these reviewers were watching, but Cherry is incredible. Cannot recommend it enough. The subtle details that you'll miss if you're not paying attention make it all the more interesting. Will definitely watch this again after I have a chance to fully process it. Excellent work Russo Brothers, Tom and Ciara.\"],\n",
       " ['Cherry (2021)',\n",
       "  'laceup-96849',\n",
       "  '14 March 2021',\n",
       "  'Critics are so wrong',\n",
       "  \"Its a good movie, yes the message is kind of confusing but still you can understand what's it trying to say, emotional film no doubt great performance by Tom and Ciara\"],\n",
       " ['Cherry (2021)',\n",
       "  'cmedeefr',\n",
       "  '12 March 2021',\n",
       "  'Brilliant...',\n",
       "  'Watch and decide for yourself: I have!\\n\\nThis movie is well shot, well played and deeply real and humane.'],\n",
       " ['Cherry (2021)',\n",
       "  'hockeylass-134-929537',\n",
       "  '1 March 2021',\n",
       "  \"I enjoyed this film - but I know it'll be divisive\",\n",
       "  'You will either love this film, or really dislike it, and I very much doubt there\\'ll be an in between owing to the subject matter and style choices - but I for one really appreciated this film and it\\'s one that\\'ll stay with me for quite some time.\\n\\nI can\\'t use the word \"enjoy\" because the story is so desperately sad overall, and some of the scenes are so harrowing that it makes for uncomfortable viewing.\\n\\nThe first half an hour of Cherry struggles to find its place. The longer I think on it, the more it feels like that was an intentional choice. The character himself is drifting through his life, never really going anywhere and the feel of the movie at the start is much the same. As it finds its footing though, what becomes abundantly clear is that the systems Cherry puts his trust in, fail him. And as he scrabbles to find some sense of normalcy, bad decisions lead him along a path that way too many people have found themselves down.\\n\\nThe Russo Brothers take a lot of stick - and I feel cannot win. It\\'s as though film critics are not willing to allow them to move away from the blockbusters they made. Not that they want them to make those blockbusters any more either. Here, they\\'re clearly indulging in their passions, and though I didn\\'t like some of the style choices, and I wish they\\'d given Emily a slightly deeper character arc, I respect those choices and I understand why they made them.\\n\\nCinematography is everything I would come to expect from Newton Thomas Sigel, the chapters \"Basic\" and \"Cherry\" my absolute favourites. Critics have slated the script - again a criticism that I feel is a bit harsh given a lot of the text is directly lifted from the book of the same name.\\n\\nTom Holland is transcendent in this role as the titular anti-hero. To start with he acts as you would come to expect (especially if you\\'ve seen his work in The Devil All The Time) - but as his character descends into the deepest pit of despair, he knocks it out of the park. There\\'s times you lose the fact it\\'s actually him - by the end he\\'s a shell of a man. He really leaves it all out there, and criticisms that he\\'s miscast are, to my mind, absurd. Ciara Bravo is excellent too as his wife, Emily, and the supporting cast do their jobs well as wasters and chancers who enable Cherry\\'s demise.\\n\\nMy overwhelming sadness by the end of the movie is stemmed from the fact that while this is the story of one man, there\\'s so many more out there facing the same struggles, so many people out there who could so easily fall down the same hole.'],\n",
       " ['Cherry (2021)',\n",
       "  'paulozavaleta-28773',\n",
       "  '1 March 2021',\n",
       "  'An Extraordinary, Amazing and Sad Story, Tom Holland has proven he is worth Hold',\n",
       "  \"I don't care what critics say, Cherry is a good movie with a sad plot that will make you feel bad for the main characters, Tom Holland's performance is Oscar Worthy and Henry Jackman's music and The cinematography are great I would watch this movie again and again\"],\n",
       " ['Cherry (2021)',\n",
       "  'Golden_Hope',\n",
       "  '14 March 2021',\n",
       "  'Trying Too Hard to Be Smart',\n",
       "  'Wow.\\n\\nI don\\'t know where to start with this movie really. It was everything and the kitchen sink.\\n\\nI will start by saying that the actors did a fantastic job. They were all believable and really sold these characters. I think without them this movie would honestly be unwatchable, they really deserve credit.\\n\\nThe rest of it is something else.\\n\\nThe best way I can sum up the direction is, you know that person that thinks they are smarter than everyone in the room and they keep trying to convince you that they are the smartest. This movie is that person.\\n\\nThe directing doesn\\'t let you just sit and watch the movie. It is constantly shouting in your face being like \"look over here isn\\'t this the best thing that you have ever seen?\" And it just isn\\'t. Breaking the forth wall isn\\'t something new. Using different lighting to spot light something isn\\'t groundbreaking but this movie wants you to think that it is. It is honestly so distracting and takes away from the story.\\n\\nThis also goes for the score. It was so annoying and out of place and once again it was screaming in your face.\\n\\nThe pacing and runtime were also an issue. 2 hours 30 is a long runtime for any movie but I don\\'t think this story had enough to support that. It had drawn our scenes and lingering shots that just bogged it down. I also think that half of this movie is shot in slow motion. It was just constantly happening for no reason other than to show off.\\n\\nThe other biggest disaster of this movie is the narration. It\\'s is literally like they had Tom Holland read action lines from the script. It was just like \"I\\'m in a bar and the bar is red and there are people here, it\\'s 3 o\\'clock but soon it will be 4 and then I will go home but first I poured a drink and then I drank it\". Why include that, it is utterly pointless. It isn\\'t a radio programme, we have eyes. Just show us what is happening we will understand it.\\n\\nAnd I think that once again comes back to this movie thinking it is insanely clever. It thinks the audience are idiots so they need spoon feeding ever piece of information.\\n\\nIn someways I appreciate that they took swing and tried a different approach, I think they just needed to give the audience more credit. It is a well made film it just is so over produce and over directed to the point were it. Ruins the whole thing.'],\n",
       " ['Cherry (2021)',\n",
       "  'meribelmerisaar',\n",
       "  '12 March 2021',\n",
       "  'I LOVE IT 10/10',\n",
       "  'It was really touching to see everything he and Emily went through. I love this movie sm.'],\n",
       " ['Cherry (2021)', 'bethrachel', '13 March 2021', 'Dark but great', ''],\n",
       " ['Cherry (2021)',\n",
       "  'sarahcajkova',\n",
       "  '12 March 2021',\n",
       "  'seven out of ten',\n",
       "  'I\\'ve not seen every Russo Brothers movie and I think that they have already better one. But the cinematography was in some moments just great and with that music (i love how simple it was and how it fitted the scenes) it was enough of experience for me. And Tom Holland? He actually was outstanding (he proved that can do better than \"just\" Marvel movies). I\\'m not a movie critic but you need to see this film and then choose if you like it or not. Don\\'t be discouraged bc of the ratings.'],\n",
       " ['Cherry (2021)',\n",
       "  'jomarandre',\n",
       "  '12 March 2021',\n",
       "  'Tough',\n",
       "  'The movie was dark and hard, but it makes it up in great acting, cinematography and music that fits perfectly. The movie was rough and took effort to watch, but it was worth it.'],\n",
       " ['Cherry (2021)',\n",
       "  'Xstal',\n",
       "  '17 March 2021',\n",
       "  'No Cherry on this Cake...',\n",
       "  \"... or icing for that matter. Fabulously forgettable and completely unoriginal - begging, borrowing and stealing from films you've seen aplenty and plenty done far better, the empathy required diluted, diffused and decayed as the lead is just too flimsy for the role and still presents as a child, even as a mature man approaching middle age, the theatrical moustache no help whatsoever.\"],\n",
       " ['Cherry (2021)',\n",
       "  'ijmontalvo',\n",
       "  '12 March 2021',\n",
       "  'Amazing',\n",
       "  'Great movie. Proud of tom and the rest of the cast. They did amazing!'],\n",
       " ['Cherry (2021)',\n",
       "  'darrel076',\n",
       "  '13 March 2021',\n",
       "  'BELIEVABLE ADDICT. GOOD MOVIE.',\n",
       "  \"His acting as a junkie is on point. The movie was artistic at times and still hit he nail on the head. I see these low reviewers and they are mainly little girls. They have ro be by how they talk., They clearly have no taste. Enjoy the movie, it's good.\"],\n",
       " ['Cherry (2021)',\n",
       "  'kurtisbeacroft',\n",
       "  '13 March 2021',\n",
       "  'Outstanding..!',\n",
       "  'Outstanding, there it is, noting more to add because I dont want to ruin anything for anyone watching this, apart from the fact its a long awaited movie for those of us that has missed seeing a decent movie'],\n",
       " ['Cherry (2021)',\n",
       "  'ozorjustin',\n",
       "  '15 March 2021',\n",
       "  'Not for the faint hearted',\n",
       "  \"This movie is a 7/10 no doubt but those performances were just enough to drag it up to 8.\\n\\nTom Holland totally bossed this one. It gets you soaked it so much, despite knowing the movie could go either of two directions, you still want to watch it get to that destination. Probably because you want to see the performance that will lead there. However, it's not as predictable as you may think along the way. It's just a plain all round story that is beautiful in itself and deserve adequate appraisal.\"]]"
      ]
     },
     "execution_count": 13,
     "metadata": {},
     "output_type": "execute_result"
    }
   ],
   "source": [
    "reviews"
   ]
  },
  {
   "cell_type": "code",
   "execution_count": 14,
   "metadata": {},
   "outputs": [
    {
     "data": {
      "text/plain": [
       "\"The movie will make us connected with Victor Stone and Clark Kent very deeply. I felt goosebumps and even got a bit emotional at a few points. It's a must watch for all superhero movie lovers. The release of this movie is revolutionary and hats off to Zack Snyder. Now I'm eagerly waiting for the Synderverse to be restored.\""
      ]
     },
     "execution_count": 14,
     "metadata": {},
     "output_type": "execute_result"
    }
   ],
   "source": [
    "(reviews[0][4])"
   ]
  },
  {
   "cell_type": "code",
   "execution_count": 15,
   "metadata": {},
   "outputs": [
    {
     "data": {
      "text/plain": [
       "'As a life long comic fan, DC characters are more close to my heart than Marvel characters. The first making of this film was just disappointing. It seems like there are bunch of idiots sitting on the WB executive positions who have no vision at all. The first film was literally incomplete. This one tells the full story and I must say nicely. This is the movie we, all the fans wanted and deserve.'"
      ]
     },
     "execution_count": 15,
     "metadata": {},
     "output_type": "execute_result"
    }
   ],
   "source": [
    "(reviews[1][4])"
   ]
  },
  {
   "cell_type": "code",
   "execution_count": 24,
   "metadata": {},
   "outputs": [],
   "source": [
    "browser.close()"
   ]
  },
  {
   "cell_type": "markdown",
   "metadata": {},
   "source": [
    "# Preprocessing data"
   ]
  },
  {
   "cell_type": "code",
   "execution_count": 16,
   "metadata": {},
   "outputs": [],
   "source": [
    "# Calling DataFrame constructor on list\n",
    "df = pd.DataFrame(reviews,columns =['film', 'user','date','title_rev','reviews'])"
   ]
  },
  {
   "cell_type": "code",
   "execution_count": 17,
   "metadata": {},
   "outputs": [
    {
     "data": {
      "text/html": [
       "<div>\n",
       "<style scoped>\n",
       "    .dataframe tbody tr th:only-of-type {\n",
       "        vertical-align: middle;\n",
       "    }\n",
       "\n",
       "    .dataframe tbody tr th {\n",
       "        vertical-align: top;\n",
       "    }\n",
       "\n",
       "    .dataframe thead th {\n",
       "        text-align: right;\n",
       "    }\n",
       "</style>\n",
       "<table border=\"1\" class=\"dataframe\">\n",
       "  <thead>\n",
       "    <tr style=\"text-align: right;\">\n",
       "      <th></th>\n",
       "      <th>film</th>\n",
       "      <th>user</th>\n",
       "      <th>date</th>\n",
       "      <th>title_rev</th>\n",
       "      <th>reviews</th>\n",
       "    </tr>\n",
       "  </thead>\n",
       "  <tbody>\n",
       "    <tr>\n",
       "      <th>0</th>\n",
       "      <td>Zack Snyder's Justice League (2021)</td>\n",
       "      <td>saayanbiswas</td>\n",
       "      <td>18 March 2021</td>\n",
       "      <td>Restoring the Synderverse is Essential Now!</td>\n",
       "      <td>The movie will make us connected with Victor S...</td>\n",
       "    </tr>\n",
       "    <tr>\n",
       "      <th>1</th>\n",
       "      <td>Zack Snyder's Justice League (2021)</td>\n",
       "      <td>rajon07</td>\n",
       "      <td>18 March 2021</td>\n",
       "      <td>This is the Justice League movie we deserve</td>\n",
       "      <td>As a life long comic fan, DC characters are mo...</td>\n",
       "    </tr>\n",
       "    <tr>\n",
       "      <th>2</th>\n",
       "      <td>Zack Snyder's Justice League (2021)</td>\n",
       "      <td>RinoBortone91</td>\n",
       "      <td>19 March 2021</td>\n",
       "      <td>JUSTICE FOR THE JUSTICE LEAGUE HAS BEEN SERVED</td>\n",
       "      <td>Zack Snyder's Justice League is one of the bes...</td>\n",
       "    </tr>\n",
       "    <tr>\n",
       "      <th>3</th>\n",
       "      <td>Zack Snyder's Justice League (2021)</td>\n",
       "      <td>eloybeugelink</td>\n",
       "      <td>18 March 2021</td>\n",
       "      <td>Superheroes Unite!</td>\n",
       "      <td>Yesss, thank you Zack Snyder! THIS is the movi...</td>\n",
       "    </tr>\n",
       "    <tr>\n",
       "      <th>4</th>\n",
       "      <td>Zack Snyder's Justice League (2021)</td>\n",
       "      <td>obaashaolu</td>\n",
       "      <td>18 March 2021</td>\n",
       "      <td>We need this to be cannon</td>\n",
       "      <td></td>\n",
       "    </tr>\n",
       "  </tbody>\n",
       "</table>\n",
       "</div>"
      ],
      "text/plain": [
       "                                  film           user           date  \\\n",
       "0  Zack Snyder's Justice League (2021)   saayanbiswas  18 March 2021   \n",
       "1  Zack Snyder's Justice League (2021)        rajon07  18 March 2021   \n",
       "2  Zack Snyder's Justice League (2021)  RinoBortone91  19 March 2021   \n",
       "3  Zack Snyder's Justice League (2021)  eloybeugelink  18 March 2021   \n",
       "4  Zack Snyder's Justice League (2021)     obaashaolu  18 March 2021   \n",
       "\n",
       "                                        title_rev  \\\n",
       "0     Restoring the Synderverse is Essential Now!   \n",
       "1     This is the Justice League movie we deserve   \n",
       "2  JUSTICE FOR THE JUSTICE LEAGUE HAS BEEN SERVED   \n",
       "3                              Superheroes Unite!   \n",
       "4                       We need this to be cannon   \n",
       "\n",
       "                                             reviews  \n",
       "0  The movie will make us connected with Victor S...  \n",
       "1  As a life long comic fan, DC characters are mo...  \n",
       "2  Zack Snyder's Justice League is one of the bes...  \n",
       "3  Yesss, thank you Zack Snyder! THIS is the movi...  \n",
       "4                                                     "
      ]
     },
     "execution_count": 17,
     "metadata": {},
     "output_type": "execute_result"
    }
   ],
   "source": [
    "df.head()"
   ]
  },
  {
   "cell_type": "code",
   "execution_count": 18,
   "metadata": {},
   "outputs": [
    {
     "data": {
      "text/html": [
       "<div>\n",
       "<style scoped>\n",
       "    .dataframe tbody tr th:only-of-type {\n",
       "        vertical-align: middle;\n",
       "    }\n",
       "\n",
       "    .dataframe tbody tr th {\n",
       "        vertical-align: top;\n",
       "    }\n",
       "\n",
       "    .dataframe thead th {\n",
       "        text-align: right;\n",
       "    }\n",
       "</style>\n",
       "<table border=\"1\" class=\"dataframe\">\n",
       "  <thead>\n",
       "    <tr style=\"text-align: right;\">\n",
       "      <th></th>\n",
       "      <th>film</th>\n",
       "      <th>user</th>\n",
       "      <th>date</th>\n",
       "      <th>title_rev</th>\n",
       "      <th>reviews</th>\n",
       "    </tr>\n",
       "  </thead>\n",
       "  <tbody>\n",
       "    <tr>\n",
       "      <th>95</th>\n",
       "      <td>Cherry (2021)</td>\n",
       "      <td>Xstal</td>\n",
       "      <td>17 March 2021</td>\n",
       "      <td>No Cherry on this Cake...</td>\n",
       "      <td>... or icing for that matter. Fabulously forge...</td>\n",
       "    </tr>\n",
       "    <tr>\n",
       "      <th>96</th>\n",
       "      <td>Cherry (2021)</td>\n",
       "      <td>ijmontalvo</td>\n",
       "      <td>12 March 2021</td>\n",
       "      <td>Amazing</td>\n",
       "      <td>Great movie. Proud of tom and the rest of the ...</td>\n",
       "    </tr>\n",
       "    <tr>\n",
       "      <th>97</th>\n",
       "      <td>Cherry (2021)</td>\n",
       "      <td>darrel076</td>\n",
       "      <td>13 March 2021</td>\n",
       "      <td>BELIEVABLE ADDICT. GOOD MOVIE.</td>\n",
       "      <td>His acting as a junkie is on point. The movie ...</td>\n",
       "    </tr>\n",
       "    <tr>\n",
       "      <th>98</th>\n",
       "      <td>Cherry (2021)</td>\n",
       "      <td>kurtisbeacroft</td>\n",
       "      <td>13 March 2021</td>\n",
       "      <td>Outstanding..!</td>\n",
       "      <td>Outstanding, there it is, noting more to add b...</td>\n",
       "    </tr>\n",
       "    <tr>\n",
       "      <th>99</th>\n",
       "      <td>Cherry (2021)</td>\n",
       "      <td>ozorjustin</td>\n",
       "      <td>15 March 2021</td>\n",
       "      <td>Not for the faint hearted</td>\n",
       "      <td>This movie is a 7/10 no doubt but those perfor...</td>\n",
       "    </tr>\n",
       "  </tbody>\n",
       "</table>\n",
       "</div>"
      ],
      "text/plain": [
       "             film            user           date  \\\n",
       "95  Cherry (2021)           Xstal  17 March 2021   \n",
       "96  Cherry (2021)      ijmontalvo  12 March 2021   \n",
       "97  Cherry (2021)       darrel076  13 March 2021   \n",
       "98  Cherry (2021)  kurtisbeacroft  13 March 2021   \n",
       "99  Cherry (2021)      ozorjustin  15 March 2021   \n",
       "\n",
       "                         title_rev  \\\n",
       "95       No Cherry on this Cake...   \n",
       "96                         Amazing   \n",
       "97  BELIEVABLE ADDICT. GOOD MOVIE.   \n",
       "98                  Outstanding..!   \n",
       "99       Not for the faint hearted   \n",
       "\n",
       "                                              reviews  \n",
       "95  ... or icing for that matter. Fabulously forge...  \n",
       "96  Great movie. Proud of tom and the rest of the ...  \n",
       "97  His acting as a junkie is on point. The movie ...  \n",
       "98  Outstanding, there it is, noting more to add b...  \n",
       "99  This movie is a 7/10 no doubt but those perfor...  "
      ]
     },
     "execution_count": 18,
     "metadata": {},
     "output_type": "execute_result"
    }
   ],
   "source": [
    "df.tail()"
   ]
  },
  {
   "cell_type": "code",
   "execution_count": 19,
   "metadata": {},
   "outputs": [
    {
     "data": {
      "text/html": [
       "<div>\n",
       "<style scoped>\n",
       "    .dataframe tbody tr th:only-of-type {\n",
       "        vertical-align: middle;\n",
       "    }\n",
       "\n",
       "    .dataframe tbody tr th {\n",
       "        vertical-align: top;\n",
       "    }\n",
       "\n",
       "    .dataframe thead th {\n",
       "        text-align: right;\n",
       "    }\n",
       "</style>\n",
       "<table border=\"1\" class=\"dataframe\">\n",
       "  <thead>\n",
       "    <tr style=\"text-align: right;\">\n",
       "      <th></th>\n",
       "      <th>reviews</th>\n",
       "    </tr>\n",
       "  </thead>\n",
       "  <tbody>\n",
       "    <tr>\n",
       "      <th>0</th>\n",
       "      <td>The movie will make us connected with Victor S...</td>\n",
       "    </tr>\n",
       "    <tr>\n",
       "      <th>1</th>\n",
       "      <td>As a life long comic fan, DC characters are mo...</td>\n",
       "    </tr>\n",
       "    <tr>\n",
       "      <th>2</th>\n",
       "      <td>Zack Snyder's Justice League is one of the bes...</td>\n",
       "    </tr>\n",
       "    <tr>\n",
       "      <th>3</th>\n",
       "      <td>Yesss, thank you Zack Snyder! THIS is the movi...</td>\n",
       "    </tr>\n",
       "    <tr>\n",
       "      <th>4</th>\n",
       "      <td></td>\n",
       "    </tr>\n",
       "  </tbody>\n",
       "</table>\n",
       "</div>"
      ],
      "text/plain": [
       "                                             reviews\n",
       "0  The movie will make us connected with Victor S...\n",
       "1  As a life long comic fan, DC characters are mo...\n",
       "2  Zack Snyder's Justice League is one of the bes...\n",
       "3  Yesss, thank you Zack Snyder! THIS is the movi...\n",
       "4                                                   "
      ]
     },
     "execution_count": 19,
     "metadata": {},
     "output_type": "execute_result"
    }
   ],
   "source": [
    "pd.DataFrame(df['reviews']).head()"
   ]
  },
  {
   "cell_type": "code",
   "execution_count": 20,
   "metadata": {},
   "outputs": [
    {
     "data": {
      "text/plain": [
       "100"
      ]
     },
     "execution_count": 20,
     "metadata": {},
     "output_type": "execute_result"
    }
   ],
   "source": [
    "len(df['reviews'])"
   ]
  },
  {
   "cell_type": "code",
   "execution_count": 21,
   "metadata": {},
   "outputs": [],
   "source": [
    "### Conunting Number Of words in the reviews \n",
    "\n",
    "df['word_Count']=df['reviews'].apply(lambda x: len(x.split()))\n"
   ]
  },
  {
   "cell_type": "code",
   "execution_count": 184,
   "metadata": {},
   "outputs": [],
   "source": [
    "# df['word_Count'].head()"
   ]
  },
  {
   "cell_type": "code",
   "execution_count": 22,
   "metadata": {},
   "outputs": [],
   "source": [
    "### Counting Number Of Character in the reviews\n",
    "# len(df['reviews'][0])\n",
    "\n",
    "df['char_count']=df['reviews'].apply(lambda x:len(x))"
   ]
  },
  {
   "cell_type": "code",
   "execution_count": 23,
   "metadata": {},
   "outputs": [],
   "source": [
    "### Counting Average words length\n",
    "\n",
    "def avg_words(x):\n",
    "    words=x.split()\n",
    "    if len(words)!=0:        \n",
    "#     print(words)\n",
    "        return sum(len(word) for word in words)/len(words)\n",
    "    else:\n",
    "        pass"
   ]
  },
  {
   "cell_type": "code",
   "execution_count": 24,
   "metadata": {},
   "outputs": [],
   "source": [
    "df['average_word_length']=df['reviews'].apply(lambda x: avg_words(x))"
   ]
  },
  {
   "cell_type": "code",
   "execution_count": 25,
   "metadata": {},
   "outputs": [
    {
     "data": {
      "text/html": [
       "<div>\n",
       "<style scoped>\n",
       "    .dataframe tbody tr th:only-of-type {\n",
       "        vertical-align: middle;\n",
       "    }\n",
       "\n",
       "    .dataframe tbody tr th {\n",
       "        vertical-align: top;\n",
       "    }\n",
       "\n",
       "    .dataframe thead th {\n",
       "        text-align: right;\n",
       "    }\n",
       "</style>\n",
       "<table border=\"1\" class=\"dataframe\">\n",
       "  <thead>\n",
       "    <tr style=\"text-align: right;\">\n",
       "      <th></th>\n",
       "      <th>film</th>\n",
       "      <th>user</th>\n",
       "      <th>date</th>\n",
       "      <th>title_rev</th>\n",
       "      <th>reviews</th>\n",
       "      <th>word_Count</th>\n",
       "      <th>char_count</th>\n",
       "      <th>average_word_length</th>\n",
       "    </tr>\n",
       "  </thead>\n",
       "  <tbody>\n",
       "    <tr>\n",
       "      <th>8</th>\n",
       "      <td>Zack Snyder's Justice League (2021)</td>\n",
       "      <td>monjura-07580</td>\n",
       "      <td>22 March 2021</td>\n",
       "      <td>Can we please get Justice League 2?!</td>\n",
       "      <td>Zack Snyder's Justice League was an amazing mo...</td>\n",
       "      <td>42</td>\n",
       "      <td>228</td>\n",
       "      <td>4.428571</td>\n",
       "    </tr>\n",
       "  </tbody>\n",
       "</table>\n",
       "</div>"
      ],
      "text/plain": [
       "                                  film           user           date  \\\n",
       "8  Zack Snyder's Justice League (2021)  monjura-07580  22 March 2021   \n",
       "\n",
       "                              title_rev  \\\n",
       "8  Can we please get Justice League 2?!   \n",
       "\n",
       "                                             reviews  word_Count  char_count  \\\n",
       "8  Zack Snyder's Justice League was an amazing mo...          42         228   \n",
       "\n",
       "   average_word_length  \n",
       "8             4.428571  "
      ]
     },
     "execution_count": 25,
     "metadata": {},
     "output_type": "execute_result"
    }
   ],
   "source": [
    "df.sample()"
   ]
  },
  {
   "cell_type": "code",
   "execution_count": 5,
   "metadata": {},
   "outputs": [],
   "source": [
    "from nltk.corpus import stopwords\n",
    "\n",
    "stop_words=stopwords.words('english')"
   ]
  },
  {
   "cell_type": "code",
   "execution_count": 27,
   "metadata": {},
   "outputs": [
    {
     "data": {
      "text/plain": [
       "179"
      ]
     },
     "execution_count": 27,
     "metadata": {},
     "output_type": "execute_result"
    }
   ],
   "source": [
    "len(stop_words)"
   ]
  },
  {
   "cell_type": "code",
   "execution_count": 6,
   "metadata": {},
   "outputs": [
    {
     "data": {
      "text/plain": [
       "2"
      ]
     },
     "execution_count": 6,
     "metadata": {},
     "output_type": "execute_result"
    }
   ],
   "source": [
    "x='Zack Snyders Justice League was an amazing mo'\n",
    "len([word  for word in x.split() if word.lower() in stop_words])"
   ]
  },
  {
   "cell_type": "code",
   "execution_count": 28,
   "metadata": {},
   "outputs": [],
   "source": [
    "# Checking Number of StopWords in the review\n",
    "\n",
    "df['stop_words_count']=df['reviews'].apply(lambda x: len([word  for word in x.split() if word.lower() in stop_words]))"
   ]
  },
  {
   "cell_type": "code",
   "execution_count": 29,
   "metadata": {},
   "outputs": [],
   "source": [
    "# df['stop_words'].head()\n",
    "\n",
    "df['stop_word_rate']=df['stop_words_count']/df['word_Count']\n"
   ]
  },
  {
   "cell_type": "code",
   "execution_count": 192,
   "metadata": {},
   "outputs": [],
   "source": [
    "# df.columns.drop('stop_words')"
   ]
  },
  {
   "cell_type": "code",
   "execution_count": 30,
   "metadata": {},
   "outputs": [
    {
     "data": {
      "text/html": [
       "<div>\n",
       "<style scoped>\n",
       "    .dataframe tbody tr th:only-of-type {\n",
       "        vertical-align: middle;\n",
       "    }\n",
       "\n",
       "    .dataframe tbody tr th {\n",
       "        vertical-align: top;\n",
       "    }\n",
       "\n",
       "    .dataframe thead th {\n",
       "        text-align: right;\n",
       "    }\n",
       "</style>\n",
       "<table border=\"1\" class=\"dataframe\">\n",
       "  <thead>\n",
       "    <tr style=\"text-align: right;\">\n",
       "      <th></th>\n",
       "      <th>film</th>\n",
       "      <th>user</th>\n",
       "      <th>date</th>\n",
       "      <th>title_rev</th>\n",
       "      <th>reviews</th>\n",
       "      <th>word_Count</th>\n",
       "      <th>char_count</th>\n",
       "      <th>average_word_length</th>\n",
       "      <th>stop_words_count</th>\n",
       "      <th>stop_word_rate</th>\n",
       "    </tr>\n",
       "  </thead>\n",
       "  <tbody>\n",
       "    <tr>\n",
       "      <th>0</th>\n",
       "      <td>Zack Snyder's Justice League (2021)</td>\n",
       "      <td>saayanbiswas</td>\n",
       "      <td>18 March 2021</td>\n",
       "      <td>Restoring the Synderverse is Essential Now!</td>\n",
       "      <td>The movie will make us connected with Victor S...</td>\n",
       "      <td>59</td>\n",
       "      <td>324</td>\n",
       "      <td>4.508475</td>\n",
       "      <td>27</td>\n",
       "      <td>0.457627</td>\n",
       "    </tr>\n",
       "    <tr>\n",
       "      <th>1</th>\n",
       "      <td>Zack Snyder's Justice League (2021)</td>\n",
       "      <td>rajon07</td>\n",
       "      <td>18 March 2021</td>\n",
       "      <td>This is the Justice League movie we deserve</td>\n",
       "      <td>As a life long comic fan, DC characters are mo...</td>\n",
       "      <td>74</td>\n",
       "      <td>398</td>\n",
       "      <td>4.391892</td>\n",
       "      <td>34</td>\n",
       "      <td>0.459459</td>\n",
       "    </tr>\n",
       "    <tr>\n",
       "      <th>2</th>\n",
       "      <td>Zack Snyder's Justice League (2021)</td>\n",
       "      <td>RinoBortone91</td>\n",
       "      <td>19 March 2021</td>\n",
       "      <td>JUSTICE FOR THE JUSTICE LEAGUE HAS BEEN SERVED</td>\n",
       "      <td>Zack Snyder's Justice League is one of the bes...</td>\n",
       "      <td>373</td>\n",
       "      <td>2212</td>\n",
       "      <td>4.932976</td>\n",
       "      <td>173</td>\n",
       "      <td>0.463807</td>\n",
       "    </tr>\n",
       "    <tr>\n",
       "      <th>3</th>\n",
       "      <td>Zack Snyder's Justice League (2021)</td>\n",
       "      <td>eloybeugelink</td>\n",
       "      <td>18 March 2021</td>\n",
       "      <td>Superheroes Unite!</td>\n",
       "      <td>Yesss, thank you Zack Snyder! THIS is the movi...</td>\n",
       "      <td>57</td>\n",
       "      <td>343</td>\n",
       "      <td>5.017544</td>\n",
       "      <td>21</td>\n",
       "      <td>0.368421</td>\n",
       "    </tr>\n",
       "    <tr>\n",
       "      <th>4</th>\n",
       "      <td>Zack Snyder's Justice League (2021)</td>\n",
       "      <td>obaashaolu</td>\n",
       "      <td>18 March 2021</td>\n",
       "      <td>We need this to be cannon</td>\n",
       "      <td></td>\n",
       "      <td>0</td>\n",
       "      <td>0</td>\n",
       "      <td>NaN</td>\n",
       "      <td>0</td>\n",
       "      <td>NaN</td>\n",
       "    </tr>\n",
       "  </tbody>\n",
       "</table>\n",
       "</div>"
      ],
      "text/plain": [
       "                                  film           user           date  \\\n",
       "0  Zack Snyder's Justice League (2021)   saayanbiswas  18 March 2021   \n",
       "1  Zack Snyder's Justice League (2021)        rajon07  18 March 2021   \n",
       "2  Zack Snyder's Justice League (2021)  RinoBortone91  19 March 2021   \n",
       "3  Zack Snyder's Justice League (2021)  eloybeugelink  18 March 2021   \n",
       "4  Zack Snyder's Justice League (2021)     obaashaolu  18 March 2021   \n",
       "\n",
       "                                        title_rev  \\\n",
       "0     Restoring the Synderverse is Essential Now!   \n",
       "1     This is the Justice League movie we deserve   \n",
       "2  JUSTICE FOR THE JUSTICE LEAGUE HAS BEEN SERVED   \n",
       "3                              Superheroes Unite!   \n",
       "4                       We need this to be cannon   \n",
       "\n",
       "                                             reviews  word_Count  char_count  \\\n",
       "0  The movie will make us connected with Victor S...          59         324   \n",
       "1  As a life long comic fan, DC characters are mo...          74         398   \n",
       "2  Zack Snyder's Justice League is one of the bes...         373        2212   \n",
       "3  Yesss, thank you Zack Snyder! THIS is the movi...          57         343   \n",
       "4                                                              0           0   \n",
       "\n",
       "   average_word_length  stop_words_count  stop_word_rate  \n",
       "0             4.508475                27        0.457627  \n",
       "1             4.391892                34        0.459459  \n",
       "2             4.932976               173        0.463807  \n",
       "3             5.017544                21        0.368421  \n",
       "4                  NaN                 0             NaN  "
      ]
     },
     "execution_count": 30,
     "metadata": {},
     "output_type": "execute_result"
    }
   ],
   "source": [
    "df.head()"
   ]
  },
  {
   "cell_type": "code",
   "execution_count": 31,
   "metadata": {},
   "outputs": [
    {
     "data": {
      "text/html": [
       "<div>\n",
       "<style scoped>\n",
       "    .dataframe tbody tr th:only-of-type {\n",
       "        vertical-align: middle;\n",
       "    }\n",
       "\n",
       "    .dataframe tbody tr th {\n",
       "        vertical-align: top;\n",
       "    }\n",
       "\n",
       "    .dataframe thead th {\n",
       "        text-align: right;\n",
       "    }\n",
       "</style>\n",
       "<table border=\"1\" class=\"dataframe\">\n",
       "  <thead>\n",
       "    <tr style=\"text-align: right;\">\n",
       "      <th></th>\n",
       "      <th>film</th>\n",
       "      <th>user</th>\n",
       "      <th>date</th>\n",
       "      <th>title_rev</th>\n",
       "      <th>reviews</th>\n",
       "      <th>word_Count</th>\n",
       "      <th>char_count</th>\n",
       "      <th>average_word_length</th>\n",
       "      <th>stop_words_count</th>\n",
       "      <th>stop_word_rate</th>\n",
       "    </tr>\n",
       "  </thead>\n",
       "  <tbody>\n",
       "    <tr>\n",
       "      <th>12</th>\n",
       "      <td>Zack Snyder's Justice League (2021)</td>\n",
       "      <td>vprajapat</td>\n",
       "      <td>23 March 2021</td>\n",
       "      <td>WB, Are You drunk</td>\n",
       "      <td>Restore Snyderverse, Otherwise Boycott All WB ...</td>\n",
       "      <td>7</td>\n",
       "      <td>53</td>\n",
       "      <td>6.714286</td>\n",
       "      <td>1</td>\n",
       "      <td>0.142857</td>\n",
       "    </tr>\n",
       "    <tr>\n",
       "      <th>20</th>\n",
       "      <td>Zack Snyder's Justice League (2021)</td>\n",
       "      <td>suryajijvania</td>\n",
       "      <td>18 March 2021</td>\n",
       "      <td>More Parts</td>\n",
       "      <td>It's master piece by Zack please part 2,3,4 al...</td>\n",
       "      <td>14</td>\n",
       "      <td>71</td>\n",
       "      <td>4.142857</td>\n",
       "      <td>3</td>\n",
       "      <td>0.214286</td>\n",
       "    </tr>\n",
       "    <tr>\n",
       "      <th>8</th>\n",
       "      <td>Zack Snyder's Justice League (2021)</td>\n",
       "      <td>monjura-07580</td>\n",
       "      <td>22 March 2021</td>\n",
       "      <td>Can we please get Justice League 2?!</td>\n",
       "      <td>Zack Snyder's Justice League was an amazing mo...</td>\n",
       "      <td>42</td>\n",
       "      <td>228</td>\n",
       "      <td>4.428571</td>\n",
       "      <td>11</td>\n",
       "      <td>0.261905</td>\n",
       "    </tr>\n",
       "    <tr>\n",
       "      <th>22</th>\n",
       "      <td>Zack Snyder's Justice League (2021)</td>\n",
       "      <td>moizsyed-07601</td>\n",
       "      <td>18 March 2021</td>\n",
       "      <td>Awesome out standing!</td>\n",
       "      <td>Far better than previous one and better editin...</td>\n",
       "      <td>10</td>\n",
       "      <td>60</td>\n",
       "      <td>5.100000</td>\n",
       "      <td>3</td>\n",
       "      <td>0.300000</td>\n",
       "    </tr>\n",
       "    <tr>\n",
       "      <th>70</th>\n",
       "      <td>Justice League (2017)</td>\n",
       "      <td>snyperbladeaq</td>\n",
       "      <td>20 March 2021</td>\n",
       "      <td>Warner Brothers have no vision</td>\n",
       "      <td>Watch the Zack Snyder's cut that movie makes s...</td>\n",
       "      <td>36</td>\n",
       "      <td>199</td>\n",
       "      <td>4.555556</td>\n",
       "      <td>12</td>\n",
       "      <td>0.333333</td>\n",
       "    </tr>\n",
       "    <tr>\n",
       "      <th>...</th>\n",
       "      <td>...</td>\n",
       "      <td>...</td>\n",
       "      <td>...</td>\n",
       "      <td>...</td>\n",
       "      <td>...</td>\n",
       "      <td>...</td>\n",
       "      <td>...</td>\n",
       "      <td>...</td>\n",
       "      <td>...</td>\n",
       "      <td>...</td>\n",
       "    </tr>\n",
       "    <tr>\n",
       "      <th>67</th>\n",
       "      <td>Justice League (2017)</td>\n",
       "      <td>luan-penna</td>\n",
       "      <td>16 November 2017</td>\n",
       "      <td>Just okay</td>\n",
       "      <td></td>\n",
       "      <td>0</td>\n",
       "      <td>0</td>\n",
       "      <td>NaN</td>\n",
       "      <td>0</td>\n",
       "      <td>NaN</td>\n",
       "    </tr>\n",
       "    <tr>\n",
       "      <th>73</th>\n",
       "      <td>Justice League (2017)</td>\n",
       "      <td>ig-bic</td>\n",
       "      <td>14 November 2017</td>\n",
       "      <td>Every One Star or Ten Star is a lie, it's a go...</td>\n",
       "      <td></td>\n",
       "      <td>0</td>\n",
       "      <td>0</td>\n",
       "      <td>NaN</td>\n",
       "      <td>0</td>\n",
       "      <td>NaN</td>\n",
       "    </tr>\n",
       "    <tr>\n",
       "      <th>74</th>\n",
       "      <td>Justice League (2017)</td>\n",
       "      <td>garethvk</td>\n",
       "      <td>15 November 2017</td>\n",
       "      <td>Better Than Expected But Deeply Flawed</td>\n",
       "      <td></td>\n",
       "      <td>0</td>\n",
       "      <td>0</td>\n",
       "      <td>NaN</td>\n",
       "      <td>0</td>\n",
       "      <td>NaN</td>\n",
       "    </tr>\n",
       "    <tr>\n",
       "      <th>76</th>\n",
       "      <td>Cherry (2021)</td>\n",
       "      <td>gotdayummm</td>\n",
       "      <td>18 March 2021</td>\n",
       "      <td>As a 2004 Iraq War Vet, This hits home.</td>\n",
       "      <td></td>\n",
       "      <td>0</td>\n",
       "      <td>0</td>\n",
       "      <td>NaN</td>\n",
       "      <td>0</td>\n",
       "      <td>NaN</td>\n",
       "    </tr>\n",
       "    <tr>\n",
       "      <th>92</th>\n",
       "      <td>Cherry (2021)</td>\n",
       "      <td>bethrachel</td>\n",
       "      <td>13 March 2021</td>\n",
       "      <td>Dark but great</td>\n",
       "      <td></td>\n",
       "      <td>0</td>\n",
       "      <td>0</td>\n",
       "      <td>NaN</td>\n",
       "      <td>0</td>\n",
       "      <td>NaN</td>\n",
       "    </tr>\n",
       "  </tbody>\n",
       "</table>\n",
       "<p>100 rows × 10 columns</p>\n",
       "</div>"
      ],
      "text/plain": [
       "                                   film            user              date  \\\n",
       "12  Zack Snyder's Justice League (2021)       vprajapat     23 March 2021   \n",
       "20  Zack Snyder's Justice League (2021)   suryajijvania     18 March 2021   \n",
       "8   Zack Snyder's Justice League (2021)   monjura-07580     22 March 2021   \n",
       "22  Zack Snyder's Justice League (2021)  moizsyed-07601     18 March 2021   \n",
       "70                Justice League (2017)   snyperbladeaq     20 March 2021   \n",
       "..                                  ...             ...               ...   \n",
       "67                Justice League (2017)      luan-penna  16 November 2017   \n",
       "73                Justice League (2017)          ig-bic  14 November 2017   \n",
       "74                Justice League (2017)        garethvk  15 November 2017   \n",
       "76                        Cherry (2021)      gotdayummm     18 March 2021   \n",
       "92                        Cherry (2021)      bethrachel     13 March 2021   \n",
       "\n",
       "                                            title_rev  \\\n",
       "12                                  WB, Are You drunk   \n",
       "20                                         More Parts   \n",
       "8                Can we please get Justice League 2?!   \n",
       "22                              Awesome out standing!   \n",
       "70                     Warner Brothers have no vision   \n",
       "..                                                ...   \n",
       "67                                          Just okay   \n",
       "73  Every One Star or Ten Star is a lie, it's a go...   \n",
       "74             Better Than Expected But Deeply Flawed   \n",
       "76            As a 2004 Iraq War Vet, This hits home.   \n",
       "92                                     Dark but great   \n",
       "\n",
       "                                              reviews  word_Count  char_count  \\\n",
       "12  Restore Snyderverse, Otherwise Boycott All WB ...           7          53   \n",
       "20  It's master piece by Zack please part 2,3,4 al...          14          71   \n",
       "8   Zack Snyder's Justice League was an amazing mo...          42         228   \n",
       "22  Far better than previous one and better editin...          10          60   \n",
       "70  Watch the Zack Snyder's cut that movie makes s...          36         199   \n",
       "..                                                ...         ...         ...   \n",
       "67                                                              0           0   \n",
       "73                                                              0           0   \n",
       "74                                                              0           0   \n",
       "76                                                              0           0   \n",
       "92                                                              0           0   \n",
       "\n",
       "    average_word_length  stop_words_count  stop_word_rate  \n",
       "12             6.714286                 1        0.142857  \n",
       "20             4.142857                 3        0.214286  \n",
       "8              4.428571                11        0.261905  \n",
       "22             5.100000                 3        0.300000  \n",
       "70             4.555556                12        0.333333  \n",
       "..                  ...               ...             ...  \n",
       "67                  NaN                 0             NaN  \n",
       "73                  NaN                 0             NaN  \n",
       "74                  NaN                 0             NaN  \n",
       "76                  NaN                 0             NaN  \n",
       "92                  NaN                 0             NaN  \n",
       "\n",
       "[100 rows x 10 columns]"
      ]
     },
     "execution_count": 31,
     "metadata": {},
     "output_type": "execute_result"
    }
   ],
   "source": [
    "df.sort_values(by='stop_word_rate') ##less stopword more valuable information"
   ]
  },
  {
   "cell_type": "markdown",
   "metadata": {},
   "source": [
    "#### Statistical Analysis"
   ]
  },
  {
   "cell_type": "code",
   "execution_count": 32,
   "metadata": {},
   "outputs": [
    {
     "data": {
      "text/html": [
       "<div>\n",
       "<style scoped>\n",
       "    .dataframe tbody tr th:only-of-type {\n",
       "        vertical-align: middle;\n",
       "    }\n",
       "\n",
       "    .dataframe tbody tr th {\n",
       "        vertical-align: top;\n",
       "    }\n",
       "\n",
       "    .dataframe thead th {\n",
       "        text-align: right;\n",
       "    }\n",
       "</style>\n",
       "<table border=\"1\" class=\"dataframe\">\n",
       "  <thead>\n",
       "    <tr style=\"text-align: right;\">\n",
       "      <th></th>\n",
       "      <th>word_Count</th>\n",
       "      <th>char_count</th>\n",
       "      <th>average_word_length</th>\n",
       "      <th>stop_words_count</th>\n",
       "      <th>stop_word_rate</th>\n",
       "    </tr>\n",
       "  </thead>\n",
       "  <tbody>\n",
       "    <tr>\n",
       "      <th>count</th>\n",
       "      <td>100.000000</td>\n",
       "      <td>100.000000</td>\n",
       "      <td>79.000000</td>\n",
       "      <td>100.000000</td>\n",
       "      <td>79.000000</td>\n",
       "    </tr>\n",
       "    <tr>\n",
       "      <th>mean</th>\n",
       "      <td>85.270000</td>\n",
       "      <td>476.670000</td>\n",
       "      <td>4.548867</td>\n",
       "      <td>39.730000</td>\n",
       "      <td>0.444876</td>\n",
       "    </tr>\n",
       "    <tr>\n",
       "      <th>std</th>\n",
       "      <td>150.624347</td>\n",
       "      <td>858.354487</td>\n",
       "      <td>0.466913</td>\n",
       "      <td>71.928114</td>\n",
       "      <td>0.072019</td>\n",
       "    </tr>\n",
       "    <tr>\n",
       "      <th>min</th>\n",
       "      <td>0.000000</td>\n",
       "      <td>0.000000</td>\n",
       "      <td>3.416667</td>\n",
       "      <td>0.000000</td>\n",
       "      <td>0.142857</td>\n",
       "    </tr>\n",
       "    <tr>\n",
       "      <th>25%</th>\n",
       "      <td>13.250000</td>\n",
       "      <td>67.500000</td>\n",
       "      <td>4.290894</td>\n",
       "      <td>4.000000</td>\n",
       "      <td>0.407929</td>\n",
       "    </tr>\n",
       "    <tr>\n",
       "      <th>50%</th>\n",
       "      <td>40.000000</td>\n",
       "      <td>219.500000</td>\n",
       "      <td>4.508475</td>\n",
       "      <td>18.500000</td>\n",
       "      <td>0.458333</td>\n",
       "    </tr>\n",
       "    <tr>\n",
       "      <th>75%</th>\n",
       "      <td>71.750000</td>\n",
       "      <td>398.500000</td>\n",
       "      <td>4.782177</td>\n",
       "      <td>34.500000</td>\n",
       "      <td>0.493026</td>\n",
       "    </tr>\n",
       "    <tr>\n",
       "      <th>max</th>\n",
       "      <td>1008.000000</td>\n",
       "      <td>5838.000000</td>\n",
       "      <td>6.714286</td>\n",
       "      <td>484.000000</td>\n",
       "      <td>0.555556</td>\n",
       "    </tr>\n",
       "  </tbody>\n",
       "</table>\n",
       "</div>"
      ],
      "text/plain": [
       "        word_Count   char_count  average_word_length  stop_words_count  \\\n",
       "count   100.000000   100.000000            79.000000        100.000000   \n",
       "mean     85.270000   476.670000             4.548867         39.730000   \n",
       "std     150.624347   858.354487             0.466913         71.928114   \n",
       "min       0.000000     0.000000             3.416667          0.000000   \n",
       "25%      13.250000    67.500000             4.290894          4.000000   \n",
       "50%      40.000000   219.500000             4.508475         18.500000   \n",
       "75%      71.750000   398.500000             4.782177         34.500000   \n",
       "max    1008.000000  5838.000000             6.714286        484.000000   \n",
       "\n",
       "       stop_word_rate  \n",
       "count       79.000000  \n",
       "mean         0.444876  \n",
       "std          0.072019  \n",
       "min          0.142857  \n",
       "25%          0.407929  \n",
       "50%          0.458333  \n",
       "75%          0.493026  \n",
       "max          0.555556  "
      ]
     },
     "execution_count": 32,
     "metadata": {},
     "output_type": "execute_result"
    }
   ],
   "source": [
    "df.describe()"
   ]
  },
  {
   "cell_type": "markdown",
   "metadata": {},
   "source": [
    "## Cleaning and Data Preprocessing"
   ]
  },
  {
   "cell_type": "markdown",
   "metadata": {},
   "source": [
    "### Removing the Specials Character, Removing Unicode,Removing URL,Removing HASH Tags,Removing Number\n",
    "### Removing Punctuation,Repair Elongated Words,Removing Stopwords,Removing Single Characters etc."
   ]
  },
  {
   "cell_type": "code",
   "execution_count": 480,
   "metadata": {},
   "outputs": [],
   "source": [
    "# df['clean_review'].apply(lambda x: ''(word.lower() for word in x.split()) )"
   ]
  },
  {
   "cell_type": "code",
   "execution_count": 34,
   "metadata": {},
   "outputs": [],
   "source": [
    "import string\n",
    "\n",
    "import nltk\n",
    "from nltk.corpus import stopwords\n",
    "from nltk import re\n",
    "\n",
    "MIN_YEAR = 1900\n",
    "MAX_YEAR = 2100\n",
    "\n",
    "\n",
    "def get_url_patern():\n",
    "    return re.compile(\n",
    "        r'(https?:\\/\\/(?:www\\.|(?!www))[a-zA-Z0-9][a-zA-Z0-9-]+[a-zA-Z0-9]\\.[^\\s]{2,}|https?:\\/\\/(?:www\\.|(?!www))'\n",
    "        r'[a-zA-Z0-9]\\.[^\\s]{2,}|www\\.[a-zA-Z0-9]\\.[^\\s]{2,})')\n",
    "\n",
    "\n",
    "def get_emojis_pattern():\n",
    "    try:\n",
    "        # UCS-4\n",
    "        emojis_pattern = re.compile(u'([\\U00002600-\\U000027BF])|([\\U0001f300-\\U0001f64F])|([\\U0001f680-\\U0001f6FF])')\n",
    "    except re.error:\n",
    "        # UCS-2\n",
    "        emojis_pattern = re.compile(\n",
    "            u'([\\u2600-\\u27BF])|([\\uD83C][\\uDF00-\\uDFFF])|([\\uD83D][\\uDC00-\\uDE4F])|([\\uD83D][\\uDE80-\\uDEFF])')\n",
    "    return emojis_pattern\n",
    "\n",
    "\n",
    "def get_hashtags_pattern():\n",
    "    return re.compile(r'#\\w*')\n",
    "\n",
    "\n",
    "def get_single_letter_words_pattern():\n",
    "    return re.compile(r'(?<![\\w\\-])\\w(?![\\w\\-])')\n",
    "\n",
    "\n",
    "def get_blank_spaces_pattern():\n",
    "    return re.compile(r'\\s{2,}|\\t')\n",
    "\n",
    "\n",
    "def get_twitter_reserved_words_pattern():\n",
    "    return re.compile(r'(RT|rt|FAV|fav|VIA|via)')\n",
    "\n",
    "\n",
    "def get_mentions_pattern():\n",
    "    return re.compile(r'@\\w*')\n",
    "\n",
    "\n",
    "def is_year(text):\n",
    "    if (len(text) == 3 or len(text) == 4) and (MIN_YEAR < len(text) < MAX_YEAR):\n",
    "        return True\n",
    "    else:\n",
    "        return False\n",
    "\n",
    "\n",
    "class IMDBPreprocessor:\n",
    "\n",
    "    def __init__(self, text: str):\n",
    "        self.text = text\n",
    "\n",
    "    def fully_preprocess(self):\n",
    "        return self \\\n",
    "            .remove_urls() \\\n",
    "            .remove_mentions() \\\n",
    "            .remove_hashtags() \\\n",
    "            .remove_twitter_reserved_words() \\\n",
    "            .remove_punctuation() \\\n",
    "            .remove_single_letter_words() \\\n",
    "            .remove_blank_spaces() \\\n",
    "            .remove_stopwords() \\\n",
    "            .remove_numbers()\n",
    "\n",
    "    def remove_urls(self):\n",
    "        self.text = re.sub(pattern=get_url_patern(), repl='', string=self.text)\n",
    "        return self\n",
    "\n",
    "    def remove_punctuation(self):\n",
    "        self.text = self.text.translate(str.maketrans('', '', string.punctuation))\n",
    "        return self\n",
    "\n",
    "    def remove_mentions(self):\n",
    "        self.text = re.sub(pattern=get_mentions_pattern(), repl='', string=self.text)\n",
    "        return self\n",
    "\n",
    "    def remove_hashtags(self):\n",
    "        self.text = re.sub(pattern=get_hashtags_pattern(), repl='', string=self.text)\n",
    "        return self\n",
    "\n",
    "    def remove_twitter_reserved_words(self):\n",
    "        self.text = re.sub(pattern=get_twitter_reserved_words_pattern(), repl='', string=self.text)\n",
    "        return self\n",
    "\n",
    "    def remove_single_letter_words(self):\n",
    "        self.text = re.sub(pattern=get_single_letter_words_pattern(), repl='', string=self.text)\n",
    "        return self\n",
    "\n",
    "    def remove_blank_spaces(self):\n",
    "        self.text = re.sub(pattern=get_blank_spaces_pattern(), repl=' ', string=self.text)\n",
    "        return self\n",
    "\n",
    "    def remove_stopwords(self, extra_stopwords=None):\n",
    "        if extra_stopwords is None:\n",
    "            extra_stopwords = []\n",
    "        text = nltk.word_tokenize(self.text)\n",
    "        stop_words = set(stopwords.words('english'))\n",
    "\n",
    "        new_sentence = []\n",
    "        for w in text:\n",
    "            if w not in stop_words and w not in extra_stopwords:\n",
    "                new_sentence.append(w)\n",
    "        self.text = ' '.join(new_sentence)\n",
    "        return self\n",
    "\n",
    "    def remove_numbers(self, preserve_years=False):\n",
    "        text_list = self.text.split(' ')\n",
    "        for text in text_list:\n",
    "            if text.isnumeric():\n",
    "                if preserve_years:\n",
    "                    if not is_year(text):\n",
    "                        text_list.remove(text)\n",
    "                else:\n",
    "                    text_list.remove(text)\n",
    "\n",
    "        self.text = ' '.join(text_list)\n",
    "        return self\n",
    "\n",
    "    def lowercase(self):\n",
    "        self.text = self.text.lower()\n",
    "        return self        \n",
    "#        self.text =' '.join([text.lower() for word in text.split()])\n"
   ]
  },
  {
   "cell_type": "code",
   "execution_count": 35,
   "metadata": {
    "scrolled": true
   },
   "outputs": [
    {
     "data": {
      "text/html": [
       "<div>\n",
       "<style scoped>\n",
       "    .dataframe tbody tr th:only-of-type {\n",
       "        vertical-align: middle;\n",
       "    }\n",
       "\n",
       "    .dataframe tbody tr th {\n",
       "        vertical-align: top;\n",
       "    }\n",
       "\n",
       "    .dataframe thead th {\n",
       "        text-align: right;\n",
       "    }\n",
       "</style>\n",
       "<table border=\"1\" class=\"dataframe\">\n",
       "  <thead>\n",
       "    <tr style=\"text-align: right;\">\n",
       "      <th></th>\n",
       "      <th>film</th>\n",
       "      <th>user</th>\n",
       "      <th>date</th>\n",
       "      <th>title_rev</th>\n",
       "      <th>reviews</th>\n",
       "      <th>word_Count</th>\n",
       "      <th>char_count</th>\n",
       "      <th>average_word_length</th>\n",
       "      <th>stop_words_count</th>\n",
       "      <th>stop_word_rate</th>\n",
       "      <th>clean_review</th>\n",
       "    </tr>\n",
       "  </thead>\n",
       "  <tbody>\n",
       "    <tr>\n",
       "      <th>0</th>\n",
       "      <td>Zack Snyder's Justice League (2021)</td>\n",
       "      <td>saayanbiswas</td>\n",
       "      <td>18 March 2021</td>\n",
       "      <td>Restoring the Synderverse is Essential Now!</td>\n",
       "      <td>The movie will make us connected with Victor S...</td>\n",
       "      <td>59</td>\n",
       "      <td>324</td>\n",
       "      <td>4.508475</td>\n",
       "      <td>27</td>\n",
       "      <td>0.457627</td>\n",
       "      <td>movie make connected Victor Stone Clark Kent d...</td>\n",
       "    </tr>\n",
       "    <tr>\n",
       "      <th>1</th>\n",
       "      <td>Zack Snyder's Justice League (2021)</td>\n",
       "      <td>rajon07</td>\n",
       "      <td>18 March 2021</td>\n",
       "      <td>This is the Justice League movie we deserve</td>\n",
       "      <td>As a life long comic fan, DC characters are mo...</td>\n",
       "      <td>74</td>\n",
       "      <td>398</td>\n",
       "      <td>4.391892</td>\n",
       "      <td>34</td>\n",
       "      <td>0.459459</td>\n",
       "      <td>life long comic characters close Marvel charac...</td>\n",
       "    </tr>\n",
       "    <tr>\n",
       "      <th>2</th>\n",
       "      <td>Zack Snyder's Justice League (2021)</td>\n",
       "      <td>RinoBortone91</td>\n",
       "      <td>19 March 2021</td>\n",
       "      <td>JUSTICE FOR THE JUSTICE LEAGUE HAS BEEN SERVED</td>\n",
       "      <td>Zack Snyder's Justice League is one of the bes...</td>\n",
       "      <td>373</td>\n",
       "      <td>2212</td>\n",
       "      <td>4.932976</td>\n",
       "      <td>173</td>\n",
       "      <td>0.463807</td>\n",
       "      <td>Zack Snyders Justice League bestmade successfu...</td>\n",
       "    </tr>\n",
       "    <tr>\n",
       "      <th>3</th>\n",
       "      <td>Zack Snyder's Justice League (2021)</td>\n",
       "      <td>eloybeugelink</td>\n",
       "      <td>18 March 2021</td>\n",
       "      <td>Superheroes Unite!</td>\n",
       "      <td>Yesss, thank you Zack Snyder! THIS is the movi...</td>\n",
       "      <td>57</td>\n",
       "      <td>343</td>\n",
       "      <td>5.017544</td>\n",
       "      <td>21</td>\n",
       "      <td>0.368421</td>\n",
       "      <td>Yesss thank Zack Snyder THIS movie heroes dese...</td>\n",
       "    </tr>\n",
       "    <tr>\n",
       "      <th>4</th>\n",
       "      <td>Zack Snyder's Justice League (2021)</td>\n",
       "      <td>obaashaolu</td>\n",
       "      <td>18 March 2021</td>\n",
       "      <td>We need this to be cannon</td>\n",
       "      <td></td>\n",
       "      <td>0</td>\n",
       "      <td>0</td>\n",
       "      <td>NaN</td>\n",
       "      <td>0</td>\n",
       "      <td>NaN</td>\n",
       "      <td></td>\n",
       "    </tr>\n",
       "  </tbody>\n",
       "</table>\n",
       "</div>"
      ],
      "text/plain": [
       "                                  film           user           date  \\\n",
       "0  Zack Snyder's Justice League (2021)   saayanbiswas  18 March 2021   \n",
       "1  Zack Snyder's Justice League (2021)        rajon07  18 March 2021   \n",
       "2  Zack Snyder's Justice League (2021)  RinoBortone91  19 March 2021   \n",
       "3  Zack Snyder's Justice League (2021)  eloybeugelink  18 March 2021   \n",
       "4  Zack Snyder's Justice League (2021)     obaashaolu  18 March 2021   \n",
       "\n",
       "                                        title_rev  \\\n",
       "0     Restoring the Synderverse is Essential Now!   \n",
       "1     This is the Justice League movie we deserve   \n",
       "2  JUSTICE FOR THE JUSTICE LEAGUE HAS BEEN SERVED   \n",
       "3                              Superheroes Unite!   \n",
       "4                       We need this to be cannon   \n",
       "\n",
       "                                             reviews  word_Count  char_count  \\\n",
       "0  The movie will make us connected with Victor S...          59         324   \n",
       "1  As a life long comic fan, DC characters are mo...          74         398   \n",
       "2  Zack Snyder's Justice League is one of the bes...         373        2212   \n",
       "3  Yesss, thank you Zack Snyder! THIS is the movi...          57         343   \n",
       "4                                                              0           0   \n",
       "\n",
       "   average_word_length  stop_words_count  stop_word_rate  \\\n",
       "0             4.508475                27        0.457627   \n",
       "1             4.391892                34        0.459459   \n",
       "2             4.932976               173        0.463807   \n",
       "3             5.017544                21        0.368421   \n",
       "4                  NaN                 0             NaN   \n",
       "\n",
       "                                        clean_review  \n",
       "0  movie make connected Victor Stone Clark Kent d...  \n",
       "1  life long comic characters close Marvel charac...  \n",
       "2  Zack Snyders Justice League bestmade successfu...  \n",
       "3  Yesss thank Zack Snyder THIS movie heroes dese...  \n",
       "4                                                     "
      ]
     },
     "execution_count": 35,
     "metadata": {},
     "output_type": "execute_result"
    }
   ],
   "source": [
    "# Clean tweets and append to new column\n",
    "IMDB = df['reviews']\n",
    "clean_review = []\n",
    "for cmmt in IMDB:\n",
    "    c = IMDBPreprocessor((cmmt))\n",
    "    c.fully_preprocess()\n",
    "    c = c.text\n",
    "    clean_review.append(c)\n",
    "\n",
    "df['clean_review'] = clean_review     # taking the words having whose size >3\n",
    "df['clean_review'] = df['clean_review'].apply(lambda x: ' '.join([w for w in x.split() if len(w)>3]))\n",
    "df.head(5)"
   ]
  },
  {
   "cell_type": "code",
   "execution_count": 50,
   "metadata": {},
   "outputs": [
    {
     "data": {
      "text/html": [
       "<div>\n",
       "<style scoped>\n",
       "    .dataframe tbody tr th:only-of-type {\n",
       "        vertical-align: middle;\n",
       "    }\n",
       "\n",
       "    .dataframe tbody tr th {\n",
       "        vertical-align: top;\n",
       "    }\n",
       "\n",
       "    .dataframe thead th {\n",
       "        text-align: right;\n",
       "    }\n",
       "</style>\n",
       "<table border=\"1\" class=\"dataframe\">\n",
       "  <thead>\n",
       "    <tr style=\"text-align: right;\">\n",
       "      <th></th>\n",
       "      <th>reviews</th>\n",
       "      <th>clean_review</th>\n",
       "    </tr>\n",
       "  </thead>\n",
       "  <tbody>\n",
       "    <tr>\n",
       "      <th>0</th>\n",
       "      <td>The movie will make us connected with Victor S...</td>\n",
       "      <td>movie make connected victor stone clark kent d...</td>\n",
       "    </tr>\n",
       "    <tr>\n",
       "      <th>1</th>\n",
       "      <td>As a life long comic fan, DC characters are mo...</td>\n",
       "      <td>life long comic characters close marvel charac...</td>\n",
       "    </tr>\n",
       "    <tr>\n",
       "      <th>2</th>\n",
       "      <td>Zack Snyder's Justice League is one of the bes...</td>\n",
       "      <td>zack snyders justice league bestmade successfu...</td>\n",
       "    </tr>\n",
       "    <tr>\n",
       "      <th>3</th>\n",
       "      <td>Yesss, thank you Zack Snyder! THIS is the movi...</td>\n",
       "      <td>yesss thank zack snyder this movie heroes dese...</td>\n",
       "    </tr>\n",
       "    <tr>\n",
       "      <th>4</th>\n",
       "      <td></td>\n",
       "      <td></td>\n",
       "    </tr>\n",
       "    <tr>\n",
       "      <th>5</th>\n",
       "      <td>No words can describe the experience. Seeing a...</td>\n",
       "      <td>words describe experience seeing struggle come...</td>\n",
       "    </tr>\n",
       "    <tr>\n",
       "      <th>6</th>\n",
       "      <td>Zack Snyder delivers by far his best film with...</td>\n",
       "      <td>zack snyder delivers best film justice league ...</td>\n",
       "    </tr>\n",
       "    <tr>\n",
       "      <th>7</th>\n",
       "      <td>I am so happy that this film filled all the br...</td>\n",
       "      <td>happy film filled broken points justice league...</td>\n",
       "    </tr>\n",
       "    <tr>\n",
       "      <th>8</th>\n",
       "      <td>Zack Snyder's Justice League was an amazing mo...</td>\n",
       "      <td>zack snyders justice league amazing movie this...</td>\n",
       "    </tr>\n",
       "    <tr>\n",
       "      <th>9</th>\n",
       "      <td>The longer they are, the more time they get to...</td>\n",
       "      <td>longer time story pace perfect stories charact...</td>\n",
       "    </tr>\n",
       "  </tbody>\n",
       "</table>\n",
       "</div>"
      ],
      "text/plain": [
       "                                             reviews  \\\n",
       "0  The movie will make us connected with Victor S...   \n",
       "1  As a life long comic fan, DC characters are mo...   \n",
       "2  Zack Snyder's Justice League is one of the bes...   \n",
       "3  Yesss, thank you Zack Snyder! THIS is the movi...   \n",
       "4                                                      \n",
       "5  No words can describe the experience. Seeing a...   \n",
       "6  Zack Snyder delivers by far his best film with...   \n",
       "7  I am so happy that this film filled all the br...   \n",
       "8  Zack Snyder's Justice League was an amazing mo...   \n",
       "9  The longer they are, the more time they get to...   \n",
       "\n",
       "                                        clean_review  \n",
       "0  movie make connected victor stone clark kent d...  \n",
       "1  life long comic characters close marvel charac...  \n",
       "2  zack snyders justice league bestmade successfu...  \n",
       "3  yesss thank zack snyder this movie heroes dese...  \n",
       "4                                                     \n",
       "5  words describe experience seeing struggle come...  \n",
       "6  zack snyder delivers best film justice league ...  \n",
       "7  happy film filled broken points justice league...  \n",
       "8  zack snyders justice league amazing movie this...  \n",
       "9  longer time story pace perfect stories charact...  "
      ]
     },
     "execution_count": 50,
     "metadata": {},
     "output_type": "execute_result"
    }
   ],
   "source": [
    "# Visualzing and comparing the comments after cleaning\n",
    "df[['reviews','clean_review']][:10] "
   ]
  },
  {
   "cell_type": "code",
   "execution_count": 37,
   "metadata": {},
   "outputs": [],
   "source": [
    "## After Cleaning the Reviews Some Words Are not Converted into LowerCase\n",
    "\n",
    "df['clean_review']=df['clean_review'].apply(lambda x: ' '.join (word.lower() for word in x.split()) )"
   ]
  },
  {
   "cell_type": "code",
   "execution_count": 148,
   "metadata": {},
   "outputs": [],
   "source": [
    "# df[['reviews','clean_review','lowerclean_review']][:4]"
   ]
  },
  {
   "cell_type": "code",
   "execution_count": 38,
   "metadata": {},
   "outputs": [
    {
     "data": {
      "text/html": [
       "<div>\n",
       "<style scoped>\n",
       "    .dataframe tbody tr th:only-of-type {\n",
       "        vertical-align: middle;\n",
       "    }\n",
       "\n",
       "    .dataframe tbody tr th {\n",
       "        vertical-align: top;\n",
       "    }\n",
       "\n",
       "    .dataframe thead th {\n",
       "        text-align: right;\n",
       "    }\n",
       "</style>\n",
       "<table border=\"1\" class=\"dataframe\">\n",
       "  <thead>\n",
       "    <tr style=\"text-align: right;\">\n",
       "      <th></th>\n",
       "      <th>film</th>\n",
       "      <th>user</th>\n",
       "      <th>date</th>\n",
       "      <th>title_rev</th>\n",
       "      <th>reviews</th>\n",
       "      <th>word_Count</th>\n",
       "      <th>char_count</th>\n",
       "      <th>average_word_length</th>\n",
       "      <th>stop_words_count</th>\n",
       "      <th>stop_word_rate</th>\n",
       "      <th>clean_review</th>\n",
       "    </tr>\n",
       "  </thead>\n",
       "  <tbody>\n",
       "    <tr>\n",
       "      <th>79</th>\n",
       "      <td>Cherry (2021)</td>\n",
       "      <td>sammybeno</td>\n",
       "      <td>15 March 2021</td>\n",
       "      <td>Pretty damn good</td>\n",
       "      <td>I don't understand the low ratings. All this f...</td>\n",
       "      <td>39</td>\n",
       "      <td>212</td>\n",
       "      <td>4.461538</td>\n",
       "      <td>20</td>\n",
       "      <td>0.512821</td>\n",
       "      <td>dont understand ratings film show much range h...</td>\n",
       "    </tr>\n",
       "    <tr>\n",
       "      <th>27</th>\n",
       "      <td>Coming 2 America (2021)</td>\n",
       "      <td>debellum</td>\n",
       "      <td>7 March 2021</td>\n",
       "      <td>Not good</td>\n",
       "      <td>Best thing about this movie is that it brings ...</td>\n",
       "      <td>27</td>\n",
       "      <td>147</td>\n",
       "      <td>4.481481</td>\n",
       "      <td>13</td>\n",
       "      <td>0.481481</td>\n",
       "      <td>best thing movie brings back actors worst thin...</td>\n",
       "    </tr>\n",
       "    <tr>\n",
       "      <th>91</th>\n",
       "      <td>Cherry (2021)</td>\n",
       "      <td>meribelmerisaar</td>\n",
       "      <td>12 March 2021</td>\n",
       "      <td>I LOVE IT 10/10</td>\n",
       "      <td>It was really touching to see everything he an...</td>\n",
       "      <td>17</td>\n",
       "      <td>89</td>\n",
       "      <td>4.294118</td>\n",
       "      <td>7</td>\n",
       "      <td>0.411765</td>\n",
       "      <td>really touching everything emily went love movie</td>\n",
       "    </tr>\n",
       "    <tr>\n",
       "      <th>32</th>\n",
       "      <td>Coming 2 America (2021)</td>\n",
       "      <td>yaplex</td>\n",
       "      <td>8 March 2021</td>\n",
       "      <td>Can't watch this movie</td>\n",
       "      <td>It is not funny at all. Nothing comparing to t...</td>\n",
       "      <td>15</td>\n",
       "      <td>82</td>\n",
       "      <td>4.533333</td>\n",
       "      <td>7</td>\n",
       "      <td>0.466667</td>\n",
       "      <td>funny nothing comparing original movie jokes s...</td>\n",
       "    </tr>\n",
       "    <tr>\n",
       "      <th>21</th>\n",
       "      <td>Zack Snyder's Justice League (2021)</td>\n",
       "      <td>shishirkmr-82243</td>\n",
       "      <td>18 March 2021</td>\n",
       "      <td>It's a fantastic movie</td>\n",
       "      <td>No words to describe. It's awesome. One of the...</td>\n",
       "      <td>14</td>\n",
       "      <td>73</td>\n",
       "      <td>4.285714</td>\n",
       "      <td>6</td>\n",
       "      <td>0.428571</td>\n",
       "      <td>words describe awesome best superhero would</td>\n",
       "    </tr>\n",
       "  </tbody>\n",
       "</table>\n",
       "</div>"
      ],
      "text/plain": [
       "                                   film              user           date  \\\n",
       "79                        Cherry (2021)         sammybeno  15 March 2021   \n",
       "27              Coming 2 America (2021)          debellum   7 March 2021   \n",
       "91                        Cherry (2021)   meribelmerisaar  12 March 2021   \n",
       "32              Coming 2 America (2021)            yaplex   8 March 2021   \n",
       "21  Zack Snyder's Justice League (2021)  shishirkmr-82243  18 March 2021   \n",
       "\n",
       "                 title_rev                                            reviews  \\\n",
       "79        Pretty damn good  I don't understand the low ratings. All this f...   \n",
       "27                Not good  Best thing about this movie is that it brings ...   \n",
       "91         I LOVE IT 10/10  It was really touching to see everything he an...   \n",
       "32  Can't watch this movie  It is not funny at all. Nothing comparing to t...   \n",
       "21  It's a fantastic movie  No words to describe. It's awesome. One of the...   \n",
       "\n",
       "    word_Count  char_count  average_word_length  stop_words_count  \\\n",
       "79          39         212             4.461538                20   \n",
       "27          27         147             4.481481                13   \n",
       "91          17          89             4.294118                 7   \n",
       "32          15          82             4.533333                 7   \n",
       "21          14          73             4.285714                 6   \n",
       "\n",
       "    stop_word_rate                                       clean_review  \n",
       "79        0.512821  dont understand ratings film show much range h...  \n",
       "27        0.481481  best thing movie brings back actors worst thin...  \n",
       "91        0.411765   really touching everything emily went love movie  \n",
       "32        0.466667  funny nothing comparing original movie jokes s...  \n",
       "21        0.428571        words describe awesome best superhero would  "
      ]
     },
     "execution_count": 38,
     "metadata": {},
     "output_type": "execute_result"
    }
   ],
   "source": [
    "df.sample(5) ## Getting random data"
   ]
  },
  {
   "cell_type": "code",
   "execution_count": 39,
   "metadata": {},
   "outputs": [
    {
     "data": {
      "text/plain": [
       "8527"
      ]
     },
     "execution_count": 39,
     "metadata": {},
     "output_type": "execute_result"
    }
   ],
   "source": [
    "# df.to_csv('IMDB_Reviews.csv')\n",
    "df['word_Count'].sum()"
   ]
  },
  {
   "cell_type": "markdown",
   "metadata": {},
   "source": [
    "####  Classified the sentiment into Great, Good, Bad & Worst"
   ]
  },
  {
   "cell_type": "code",
   "execution_count": 40,
   "metadata": {},
   "outputs": [
    {
     "data": {
      "text/html": [
       "<div>\n",
       "<style scoped>\n",
       "    .dataframe tbody tr th:only-of-type {\n",
       "        vertical-align: middle;\n",
       "    }\n",
       "\n",
       "    .dataframe tbody tr th {\n",
       "        vertical-align: top;\n",
       "    }\n",
       "\n",
       "    .dataframe thead th {\n",
       "        text-align: right;\n",
       "    }\n",
       "</style>\n",
       "<table border=\"1\" class=\"dataframe\">\n",
       "  <thead>\n",
       "    <tr style=\"text-align: right;\">\n",
       "      <th></th>\n",
       "      <th>film</th>\n",
       "      <th>user</th>\n",
       "      <th>date</th>\n",
       "      <th>title_rev</th>\n",
       "      <th>reviews</th>\n",
       "      <th>word_Count</th>\n",
       "      <th>char_count</th>\n",
       "      <th>average_word_length</th>\n",
       "      <th>stop_words_count</th>\n",
       "      <th>stop_word_rate</th>\n",
       "      <th>clean_review</th>\n",
       "      <th>sentiment</th>\n",
       "    </tr>\n",
       "  </thead>\n",
       "  <tbody>\n",
       "    <tr>\n",
       "      <th>0</th>\n",
       "      <td>Zack Snyder's Justice League (2021)</td>\n",
       "      <td>saayanbiswas</td>\n",
       "      <td>18 March 2021</td>\n",
       "      <td>Restoring the Synderverse is Essential Now!</td>\n",
       "      <td>The movie will make us connected with Victor S...</td>\n",
       "      <td>59</td>\n",
       "      <td>324</td>\n",
       "      <td>4.508475</td>\n",
       "      <td>27</td>\n",
       "      <td>0.457627</td>\n",
       "      <td>movie make connected victor stone clark kent d...</td>\n",
       "      <td>3</td>\n",
       "    </tr>\n",
       "    <tr>\n",
       "      <th>1</th>\n",
       "      <td>Zack Snyder's Justice League (2021)</td>\n",
       "      <td>rajon07</td>\n",
       "      <td>18 March 2021</td>\n",
       "      <td>This is the Justice League movie we deserve</td>\n",
       "      <td>As a life long comic fan, DC characters are mo...</td>\n",
       "      <td>74</td>\n",
       "      <td>398</td>\n",
       "      <td>4.391892</td>\n",
       "      <td>34</td>\n",
       "      <td>0.459459</td>\n",
       "      <td>life long comic characters close marvel charac...</td>\n",
       "      <td>3</td>\n",
       "    </tr>\n",
       "    <tr>\n",
       "      <th>2</th>\n",
       "      <td>Zack Snyder's Justice League (2021)</td>\n",
       "      <td>RinoBortone91</td>\n",
       "      <td>19 March 2021</td>\n",
       "      <td>JUSTICE FOR THE JUSTICE LEAGUE HAS BEEN SERVED</td>\n",
       "      <td>Zack Snyder's Justice League is one of the bes...</td>\n",
       "      <td>373</td>\n",
       "      <td>2212</td>\n",
       "      <td>4.932976</td>\n",
       "      <td>173</td>\n",
       "      <td>0.463807</td>\n",
       "      <td>zack snyders justice league bestmade successfu...</td>\n",
       "      <td>3</td>\n",
       "    </tr>\n",
       "    <tr>\n",
       "      <th>3</th>\n",
       "      <td>Zack Snyder's Justice League (2021)</td>\n",
       "      <td>eloybeugelink</td>\n",
       "      <td>18 March 2021</td>\n",
       "      <td>Superheroes Unite!</td>\n",
       "      <td>Yesss, thank you Zack Snyder! THIS is the movi...</td>\n",
       "      <td>57</td>\n",
       "      <td>343</td>\n",
       "      <td>5.017544</td>\n",
       "      <td>21</td>\n",
       "      <td>0.368421</td>\n",
       "      <td>yesss thank zack snyder this movie heroes dese...</td>\n",
       "      <td>4</td>\n",
       "    </tr>\n",
       "    <tr>\n",
       "      <th>4</th>\n",
       "      <td>Zack Snyder's Justice League (2021)</td>\n",
       "      <td>obaashaolu</td>\n",
       "      <td>18 March 2021</td>\n",
       "      <td>We need this to be cannon</td>\n",
       "      <td></td>\n",
       "      <td>0</td>\n",
       "      <td>0</td>\n",
       "      <td>NaN</td>\n",
       "      <td>0</td>\n",
       "      <td>NaN</td>\n",
       "      <td></td>\n",
       "      <td>3</td>\n",
       "    </tr>\n",
       "    <tr>\n",
       "      <th>...</th>\n",
       "      <td>...</td>\n",
       "      <td>...</td>\n",
       "      <td>...</td>\n",
       "      <td>...</td>\n",
       "      <td>...</td>\n",
       "      <td>...</td>\n",
       "      <td>...</td>\n",
       "      <td>...</td>\n",
       "      <td>...</td>\n",
       "      <td>...</td>\n",
       "      <td>...</td>\n",
       "      <td>...</td>\n",
       "    </tr>\n",
       "    <tr>\n",
       "      <th>95</th>\n",
       "      <td>Cherry (2021)</td>\n",
       "      <td>Xstal</td>\n",
       "      <td>17 March 2021</td>\n",
       "      <td>No Cherry on this Cake...</td>\n",
       "      <td>... or icing for that matter. Fabulously forge...</td>\n",
       "      <td>63</td>\n",
       "      <td>387</td>\n",
       "      <td>5.158730</td>\n",
       "      <td>24</td>\n",
       "      <td>0.380952</td>\n",
       "      <td>icing matter fabulously forgettable completely...</td>\n",
       "      <td>2</td>\n",
       "    </tr>\n",
       "    <tr>\n",
       "      <th>96</th>\n",
       "      <td>Cherry (2021)</td>\n",
       "      <td>ijmontalvo</td>\n",
       "      <td>12 March 2021</td>\n",
       "      <td>Amazing</td>\n",
       "      <td>Great movie. Proud of tom and the rest of the ...</td>\n",
       "      <td>14</td>\n",
       "      <td>69</td>\n",
       "      <td>4.000000</td>\n",
       "      <td>7</td>\n",
       "      <td>0.500000</td>\n",
       "      <td>great movie proud rest cast they amazing</td>\n",
       "      <td>4</td>\n",
       "    </tr>\n",
       "    <tr>\n",
       "      <th>97</th>\n",
       "      <td>Cherry (2021)</td>\n",
       "      <td>darrel076</td>\n",
       "      <td>13 March 2021</td>\n",
       "      <td>BELIEVABLE ADDICT. GOOD MOVIE.</td>\n",
       "      <td>His acting as a junkie is on point. The movie ...</td>\n",
       "      <td>51</td>\n",
       "      <td>253</td>\n",
       "      <td>3.980392</td>\n",
       "      <td>28</td>\n",
       "      <td>0.549020</td>\n",
       "      <td>acting junkie point movie aistic times still n...</td>\n",
       "      <td>3</td>\n",
       "    </tr>\n",
       "    <tr>\n",
       "      <th>98</th>\n",
       "      <td>Cherry (2021)</td>\n",
       "      <td>kurtisbeacroft</td>\n",
       "      <td>13 March 2021</td>\n",
       "      <td>Outstanding..!</td>\n",
       "      <td>Outstanding, there it is, noting more to add b...</td>\n",
       "      <td>39</td>\n",
       "      <td>206</td>\n",
       "      <td>4.307692</td>\n",
       "      <td>18</td>\n",
       "      <td>0.461538</td>\n",
       "      <td>outstanding noting dont want ruin anything any...</td>\n",
       "      <td>3</td>\n",
       "    </tr>\n",
       "    <tr>\n",
       "      <th>99</th>\n",
       "      <td>Cherry (2021)</td>\n",
       "      <td>ozorjustin</td>\n",
       "      <td>15 March 2021</td>\n",
       "      <td>Not for the faint hearted</td>\n",
       "      <td>This movie is a 7/10 no doubt but those perfor...</td>\n",
       "      <td>92</td>\n",
       "      <td>501</td>\n",
       "      <td>4.445652</td>\n",
       "      <td>45</td>\n",
       "      <td>0.489130</td>\n",
       "      <td>this movie doubt performances enough drag holl...</td>\n",
       "      <td>3</td>\n",
       "    </tr>\n",
       "  </tbody>\n",
       "</table>\n",
       "<p>100 rows × 12 columns</p>\n",
       "</div>"
      ],
      "text/plain": [
       "                                   film            user           date  \\\n",
       "0   Zack Snyder's Justice League (2021)    saayanbiswas  18 March 2021   \n",
       "1   Zack Snyder's Justice League (2021)         rajon07  18 March 2021   \n",
       "2   Zack Snyder's Justice League (2021)   RinoBortone91  19 March 2021   \n",
       "3   Zack Snyder's Justice League (2021)   eloybeugelink  18 March 2021   \n",
       "4   Zack Snyder's Justice League (2021)      obaashaolu  18 March 2021   \n",
       "..                                  ...             ...            ...   \n",
       "95                        Cherry (2021)           Xstal  17 March 2021   \n",
       "96                        Cherry (2021)      ijmontalvo  12 March 2021   \n",
       "97                        Cherry (2021)       darrel076  13 March 2021   \n",
       "98                        Cherry (2021)  kurtisbeacroft  13 March 2021   \n",
       "99                        Cherry (2021)      ozorjustin  15 March 2021   \n",
       "\n",
       "                                         title_rev  \\\n",
       "0      Restoring the Synderverse is Essential Now!   \n",
       "1      This is the Justice League movie we deserve   \n",
       "2   JUSTICE FOR THE JUSTICE LEAGUE HAS BEEN SERVED   \n",
       "3                               Superheroes Unite!   \n",
       "4                        We need this to be cannon   \n",
       "..                                             ...   \n",
       "95                       No Cherry on this Cake...   \n",
       "96                                         Amazing   \n",
       "97                  BELIEVABLE ADDICT. GOOD MOVIE.   \n",
       "98                                  Outstanding..!   \n",
       "99                       Not for the faint hearted   \n",
       "\n",
       "                                              reviews  word_Count  char_count  \\\n",
       "0   The movie will make us connected with Victor S...          59         324   \n",
       "1   As a life long comic fan, DC characters are mo...          74         398   \n",
       "2   Zack Snyder's Justice League is one of the bes...         373        2212   \n",
       "3   Yesss, thank you Zack Snyder! THIS is the movi...          57         343   \n",
       "4                                                               0           0   \n",
       "..                                                ...         ...         ...   \n",
       "95  ... or icing for that matter. Fabulously forge...          63         387   \n",
       "96  Great movie. Proud of tom and the rest of the ...          14          69   \n",
       "97  His acting as a junkie is on point. The movie ...          51         253   \n",
       "98  Outstanding, there it is, noting more to add b...          39         206   \n",
       "99  This movie is a 7/10 no doubt but those perfor...          92         501   \n",
       "\n",
       "    average_word_length  stop_words_count  stop_word_rate  \\\n",
       "0              4.508475                27        0.457627   \n",
       "1              4.391892                34        0.459459   \n",
       "2              4.932976               173        0.463807   \n",
       "3              5.017544                21        0.368421   \n",
       "4                   NaN                 0             NaN   \n",
       "..                  ...               ...             ...   \n",
       "95             5.158730                24        0.380952   \n",
       "96             4.000000                 7        0.500000   \n",
       "97             3.980392                28        0.549020   \n",
       "98             4.307692                18        0.461538   \n",
       "99             4.445652                45        0.489130   \n",
       "\n",
       "                                         clean_review  sentiment  \n",
       "0   movie make connected victor stone clark kent d...          3  \n",
       "1   life long comic characters close marvel charac...          3  \n",
       "2   zack snyders justice league bestmade successfu...          3  \n",
       "3   yesss thank zack snyder this movie heroes dese...          4  \n",
       "4                                                              3  \n",
       "..                                                ...        ...  \n",
       "95  icing matter fabulously forgettable completely...          2  \n",
       "96           great movie proud rest cast they amazing          4  \n",
       "97  acting junkie point movie aistic times still n...          3  \n",
       "98  outstanding noting dont want ruin anything any...          3  \n",
       "99  this movie doubt performances enough drag holl...          3  \n",
       "\n",
       "[100 rows x 12 columns]"
      ]
     },
     "execution_count": 40,
     "metadata": {},
     "output_type": "execute_result"
    }
   ],
   "source": [
    "from textblob import TextBlob\n",
    "# compute sentiment scores (polarity) and labels\n",
    "sentiment_scores_tb = [round(TextBlob(article).sentiment.polarity, 3) for article in df['clean_review']]\n",
    "sentiment_category_tb = [4 if score >= 0.5 and score<=1  # great\n",
    "                             else 3 if score >= 0 and score<0.5 #good\n",
    "                             else 2 if score >= -0.5 and score <0 #bad\n",
    "                                 else 1 # worst\n",
    "                                     for score in sentiment_scores_tb]\n",
    "df[\"sentiment\"]=sentiment_category_tb\n",
    "df"
   ]
  },
  {
   "cell_type": "code",
   "execution_count": 41,
   "metadata": {},
   "outputs": [
    {
     "data": {
      "text/plain": [
       "array([\"Zack Snyder's Justice League (2021)\", 'Coming 2 America (2021)',\n",
       "       'Justice League (2017)', 'Cherry (2021)'], dtype=object)"
      ]
     },
     "execution_count": 41,
     "metadata": {},
     "output_type": "execute_result"
    }
   ],
   "source": [
    "df['film'].unique()"
   ]
  },
  {
   "cell_type": "code",
   "execution_count": 274,
   "metadata": {},
   "outputs": [],
   "source": [
    "# s={}\n",
    "\n",
    "# for i in ((df['film'].unique())):\n",
    "#     s[i]=(df[df['film']==i]['reviews'])\n",
    "    \n",
    "# s"
   ]
  },
  {
   "cell_type": "code",
   "execution_count": 42,
   "metadata": {},
   "outputs": [
    {
     "data": {
      "text/html": [
       "<div>\n",
       "<style scoped>\n",
       "    .dataframe tbody tr th:only-of-type {\n",
       "        vertical-align: middle;\n",
       "    }\n",
       "\n",
       "    .dataframe tbody tr th {\n",
       "        vertical-align: top;\n",
       "    }\n",
       "\n",
       "    .dataframe thead th {\n",
       "        text-align: right;\n",
       "    }\n",
       "</style>\n",
       "<table border=\"1\" class=\"dataframe\">\n",
       "  <thead>\n",
       "    <tr style=\"text-align: right;\">\n",
       "      <th></th>\n",
       "      <th>clean_review</th>\n",
       "    </tr>\n",
       "  </thead>\n",
       "  <tbody>\n",
       "    <tr>\n",
       "      <th>25</th>\n",
       "      <td>good godthis terrible movie made halfway could...</td>\n",
       "    </tr>\n",
       "    <tr>\n",
       "      <th>26</th>\n",
       "      <td>movie looks cheap obvious there charm like ori...</td>\n",
       "    </tr>\n",
       "    <tr>\n",
       "      <th>27</th>\n",
       "      <td>best thing movie brings back actors worst thin...</td>\n",
       "    </tr>\n",
       "    <tr>\n",
       "      <th>28</th>\n",
       "      <td>appreciate plethora cast returned sequel humor...</td>\n",
       "    </tr>\n",
       "    <tr>\n",
       "      <th>29</th>\n",
       "      <td>movie awful still good deal thought coming lis...</td>\n",
       "    </tr>\n",
       "    <tr>\n",
       "      <th>30</th>\n",
       "      <td>this film actually soul watch havent watched a...</td>\n",
       "    </tr>\n",
       "    <tr>\n",
       "      <th>31</th>\n",
       "      <td>never expected better original even close even...</td>\n",
       "    </tr>\n",
       "    <tr>\n",
       "      <th>32</th>\n",
       "      <td>funny nothing comparing original movie jokes s...</td>\n",
       "    </tr>\n",
       "    <tr>\n",
       "      <th>33</th>\n",
       "      <td></td>\n",
       "    </tr>\n",
       "    <tr>\n",
       "      <th>34</th>\n",
       "      <td>only good barbershop scene this movie needed d...</td>\n",
       "    </tr>\n",
       "    <tr>\n",
       "      <th>35</th>\n",
       "      <td>much time passed could made sense original mov...</td>\n",
       "    </tr>\n",
       "    <tr>\n",
       "      <th>36</th>\n",
       "      <td>very disappointing character cringe wohy</td>\n",
       "    </tr>\n",
       "    <tr>\n",
       "      <th>37</th>\n",
       "      <td>shame actors shame actresses shame director sh...</td>\n",
       "    </tr>\n",
       "    <tr>\n",
       "      <th>38</th>\n",
       "      <td>give credit bringing back nearly everyone firs...</td>\n",
       "    </tr>\n",
       "    <tr>\n",
       "      <th>39</th>\n",
       "      <td>this movie doesnt even deserve review pure utt...</td>\n",
       "    </tr>\n",
       "    <tr>\n",
       "      <th>40</th>\n",
       "      <td>first movie awesome great flow didnt need cons...</td>\n",
       "    </tr>\n",
       "    <tr>\n",
       "      <th>41</th>\n",
       "      <td>terrible sequel insult original endured full h...</td>\n",
       "    </tr>\n",
       "    <tr>\n",
       "      <th>42</th>\n",
       "      <td>place could find close shelf video store</td>\n",
       "    </tr>\n",
       "    <tr>\n",
       "      <th>43</th>\n",
       "      <td></td>\n",
       "    </tr>\n",
       "    <tr>\n",
       "      <th>44</th>\n",
       "      <td>this movie must kind joke aint funny know mean</td>\n",
       "    </tr>\n",
       "    <tr>\n",
       "      <th>45</th>\n",
       "      <td>really disappointing tried hard something coul...</td>\n",
       "    </tr>\n",
       "    <tr>\n",
       "      <th>46</th>\n",
       "      <td></td>\n",
       "    </tr>\n",
       "    <tr>\n",
       "      <th>47</th>\n",
       "      <td></td>\n",
       "    </tr>\n",
       "    <tr>\n",
       "      <th>48</th>\n",
       "      <td></td>\n",
       "    </tr>\n",
       "    <tr>\n",
       "      <th>49</th>\n",
       "      <td>turned this happens sequels dont great writers...</td>\n",
       "    </tr>\n",
       "  </tbody>\n",
       "</table>\n",
       "</div>"
      ],
      "text/plain": [
       "                                         clean_review\n",
       "25  good godthis terrible movie made halfway could...\n",
       "26  movie looks cheap obvious there charm like ori...\n",
       "27  best thing movie brings back actors worst thin...\n",
       "28  appreciate plethora cast returned sequel humor...\n",
       "29  movie awful still good deal thought coming lis...\n",
       "30  this film actually soul watch havent watched a...\n",
       "31  never expected better original even close even...\n",
       "32  funny nothing comparing original movie jokes s...\n",
       "33                                                   \n",
       "34  only good barbershop scene this movie needed d...\n",
       "35  much time passed could made sense original mov...\n",
       "36           very disappointing character cringe wohy\n",
       "37  shame actors shame actresses shame director sh...\n",
       "38  give credit bringing back nearly everyone firs...\n",
       "39  this movie doesnt even deserve review pure utt...\n",
       "40  first movie awesome great flow didnt need cons...\n",
       "41  terrible sequel insult original endured full h...\n",
       "42           place could find close shelf video store\n",
       "43                                                   \n",
       "44     this movie must kind joke aint funny know mean\n",
       "45  really disappointing tried hard something coul...\n",
       "46                                                   \n",
       "47                                                   \n",
       "48                                                   \n",
       "49  turned this happens sequels dont great writers..."
      ]
     },
     "execution_count": 42,
     "metadata": {},
     "output_type": "execute_result"
    }
   ],
   "source": [
    "t=(df[df['film']=='Coming 2 America (2021)']['clean_review'])\n",
    "pd.DataFrame(t)"
   ]
  },
  {
   "cell_type": "code",
   "execution_count": null,
   "metadata": {},
   "outputs": [],
   "source": []
  },
  {
   "cell_type": "markdown",
   "metadata": {},
   "source": [
    "## Visualizing the sentimental words after polarizing"
   ]
  },
  {
   "cell_type": "code",
   "execution_count": 45,
   "metadata": {},
   "outputs": [
    {
     "name": "stderr",
     "output_type": "stream",
     "text": [
      "C:\\Users\\Mizgaan\\Anaconda3\\lib\\site-packages\\statsmodels\\tools\\_testing.py:19: FutureWarning: pandas.util.testing is deprecated. Use the functions in the public API at pandas.testing instead.\n",
      "  import pandas.util.testing as tm\n"
     ]
    },
    {
     "data": {
      "text/plain": [
       "<matplotlib.axes._subplots.AxesSubplot at 0x239e2927390>"
      ]
     },
     "execution_count": 45,
     "metadata": {},
     "output_type": "execute_result"
    },
    {
     "data": {
      "image/png": "[encoded data removed]",
      "text/plain": [
       "<Figure size 432x288 with 1 Axes>"
      ]
     },
     "metadata": {
      "needs_background": "light"
     },
     "output_type": "display_data"
    }
   ],
   "source": [
    "import seaborn as sns\n",
    "\n",
    "sns.countplot(x='sentiment', data=df)"
   ]
  },
  {
   "cell_type": "code",
   "execution_count": 47,
   "metadata": {},
   "outputs": [],
   "source": [
    "great_words = df['word_Count'][df.sentiment == 4]\n",
    "good_words = df['word_Count'][df.sentiment == 3]\n",
    "bad_words = df['word_Count'][df.sentiment == 2]\n",
    "worst_words = df['word_Count'][df.sentiment == 1]"
   ]
  },
  {
   "cell_type": "code",
   "execution_count": 48,
   "metadata": {},
   "outputs": [
    {
     "name": "stderr",
     "output_type": "stream",
     "text": [
      "C:\\Users\\Mizgaan\\Anaconda3\\lib\\site-packages\\numpy\\core\\_asarray.py:83: VisibleDeprecationWarning: Creating an ndarray from ragged nested sequences (which is a list-or-tuple of lists-or-tuples-or ndarrays with different lengths or shapes) is deprecated. If you meant to do this, you must specify 'dtype=object' when creating the ndarray\n",
      "  return array(a, dtype, copy=False, order=order)\n"
     ]
    },
    {
     "data": {
      "text/plain": [
       "<matplotlib.legend.Legend at 0x239e2986d68>"
      ]
     },
     "execution_count": 48,
     "metadata": {},
     "output_type": "execute_result"
    },
    {
     "data": {
      "image/png": "[encoded data removed]",
      "text/plain": [
       "<Figure size 864x432 with 1 Axes>"
      ]
     },
     "metadata": {
      "needs_background": "light"
     },
     "output_type": "display_data"
    }
   ],
   "source": [
    "import matplotlib.pyplot as plt\n",
    "# %matplotlib\n",
    "\n",
    "plt.figure(figsize=(12,6))\n",
    "plt.xlim(0, 300, 5)\n",
    "plt.xlabel('word count')\n",
    "plt.ylabel('frequency')\n",
    "plt.hist([great_words, good_words, bad_words,worst_words], color=['r', 'g', 'b','y'], alpha=0.5, label=['great_words', 'good_words', 'bad_words','worst_words'])\n",
    "#plt.hist([pos_sen_len, neg_sen_len], color=['r', 'b'], alpha=0.5, label=['positive', 'negative'])\n",
    "plt.legend(loc='upper right')"
   ]
  },
  {
   "cell_type": "code",
   "execution_count": null,
   "metadata": {},
   "outputs": [],
   "source": []
  },
  {
   "cell_type": "code",
   "execution_count": 49,
   "metadata": {},
   "outputs": [
    {
     "data": {
      "text/plain": [
       "array([3, 4, 1, 2], dtype=int64)"
      ]
     },
     "execution_count": 49,
     "metadata": {},
     "output_type": "execute_result"
    }
   ],
   "source": [
    "df['sentiment'].unique()"
   ]
  },
  {
   "cell_type": "markdown",
   "metadata": {},
   "source": [
    "# Importing The Library For  Building The Model"
   ]
  },
  {
   "cell_type": "code",
   "execution_count": 52,
   "metadata": {},
   "outputs": [],
   "source": [
    "from tensorflow.keras.layers import Embedding\n",
    "from tensorflow.keras.preprocessing.sequence import pad_sequences\n",
    "from tensorflow.keras.models import Sequential\n",
    "from tensorflow.keras.preprocessing.text import one_hot\n",
    "from tensorflow.keras.layers import LSTM,Activation\n",
    "from tensorflow.keras.layers import Dense,BatchNormalization,PReLU\n",
    "from tensorflow.keras.layers import Bidirectional\n",
    "from tensorflow.keras.layers import Dropout\n",
    "import tensorflow as tf"
   ]
  },
  {
   "cell_type": "code",
   "execution_count": 53,
   "metadata": {},
   "outputs": [
    {
     "data": {
      "text/plain": [
       "0     movie make connected victor stone clark kent d...\n",
       "1     life long comic characters close marvel charac...\n",
       "2     zack snyders justice league bestmade successfu...\n",
       "3     yesss thank zack snyder this movie heroes dese...\n",
       "4                                                      \n",
       "                            ...                        \n",
       "95    icing matter fabulously forgettable completely...\n",
       "96             great movie proud rest cast they amazing\n",
       "97    acting junkie point movie aistic times still n...\n",
       "98    outstanding noting dont want ruin anything any...\n",
       "99    this movie doubt performances enough drag holl...\n",
       "Name: clean_review, Length: 100, dtype: object"
      ]
     },
     "execution_count": 53,
     "metadata": {},
     "output_type": "execute_result"
    }
   ],
   "source": [
    "df['clean_review']"
   ]
  },
  {
   "cell_type": "code",
   "execution_count": null,
   "metadata": {},
   "outputs": [],
   "source": []
  },
  {
   "cell_type": "markdown",
   "metadata": {},
   "source": [
    "### Converting to OneHot Representation"
   ]
  },
  {
   "cell_type": "code",
   "execution_count": 54,
   "metadata": {},
   "outputs": [
    {
     "name": "stdout",
     "output_type": "stream",
     "text": [
      "[4680, 4903, 45065, 44880, 16875, 28323, 46535, 49072, 13351, 43053, 22741, 33679, 16881, 42976, 431, 8466, 4680, 9351, 1611, 4680, 3998, 37762, 40676, 12806, 14519, 47130, 9993, 44624]\n"
     ]
    }
   ],
   "source": [
    "voc_size=50000\n",
    "# onehot_repr=[one_hot(words,voc_size)for words in df[['clean_review','film','stop_word_rate','average_word_length','char_count','word_Count']]] \n",
    "onehot_repr=[one_hot(words,voc_size)for words in df['clean_review']]\n",
    "\n",
    "print(onehot_repr[0])"
   ]
  },
  {
   "cell_type": "markdown",
   "metadata": {},
   "source": [
    "### Padding "
   ]
  },
  {
   "cell_type": "code",
   "execution_count": 61,
   "metadata": {},
   "outputs": [
    {
     "name": "stdout",
     "output_type": "stream",
     "text": [
      "[    0     0     0     0     0     0     0     0     0     0     0     0\n",
      "     0     0     0     0     0     0     0     0     0     0     0     0\n",
      "     0     0     0     0     0     0     0     0     0     0     0     0\n",
      "     0     0     0     0     0     0     0     0     0     0     0     0\n",
      "     0     0     0     0     0     0     0     0     0     0     0     0\n",
      "     0     0     0     0     0     0     0     0     0     0     0     0\n",
      "  4680  4903 45065 44880 16875 28323 46535 49072 13351 43053 22741 33679\n",
      " 16881 42976   431  8466  4680  9351  1611  4680  3998 37762 40676 12806\n",
      " 14519 47130  9993 44624]\n"
     ]
    }
   ],
   "source": [
    "sent_length= 100   # choosing scentence length depend upon the shape of dependent variable\n",
    "embedding_vector_features=40 ## No.of Dimension for each word\n",
    "embedded_docs=pad_sequences(onehot_repr,padding='pre',maxlen=sent_length)\n",
    "print(embedded_docs[0])"
   ]
  },
  {
   "cell_type": "code",
   "execution_count": null,
   "metadata": {},
   "outputs": [],
   "source": []
  },
  {
   "cell_type": "code",
   "execution_count": 56,
   "metadata": {},
   "outputs": [],
   "source": [
    "y=df['sentiment']\n",
    "# x=df[['clean_review','film','stop_word_rate','average_word_length','char_count','word_Count']]"
   ]
  },
  {
   "cell_type": "code",
   "execution_count": 57,
   "metadata": {},
   "outputs": [],
   "source": [
    "## Parting the Dependent and Independent variables \n",
    "\n",
    "\n",
    "X_final=np.array(embedded_docs)\n",
    "y_final=np.array(y)"
   ]
  },
  {
   "cell_type": "code",
   "execution_count": 58,
   "metadata": {},
   "outputs": [
    {
     "name": "stdout",
     "output_type": "stream",
     "text": [
      "Shape Of Dependent Variable: (100, 100) & Shape of target Variable: (100,) \n",
      "\n"
     ]
    }
   ],
   "source": [
    "print('Shape Of Dependent Variable: {a} & Shape of target Variable: {b}'.format(a=X_final.shape,b=y_final.shape),'\\n')"
   ]
  },
  {
   "cell_type": "code",
   "execution_count": null,
   "metadata": {},
   "outputs": [],
   "source": []
  },
  {
   "cell_type": "markdown",
   "metadata": {},
   "source": [
    "## MOdel BUilding "
   ]
  },
  {
   "cell_type": "markdown",
   "metadata": {},
   "source": [
    "### Model-I"
   ]
  },
  {
   "cell_type": "code",
   "execution_count": 62,
   "metadata": {},
   "outputs": [],
   "source": [
    "model=Sequential()\n",
    "# model.add(Embedding(len(word_index)+1, 300, weights=[embedding_matrix], input_length=maxlen, trainable=False))\n",
    "model.add(Embedding(voc_size,embedding_vector_features,  input_length=sent_length))\n",
    "\n",
    "\n",
    "model.add(LSTM(units=300, return_sequences=False, recurrent_dropout=0.2, dropout=0.2))\n",
    "model.add(BatchNormalization())\n",
    "\n",
    "model.add(Dense(200))\n",
    "model.add(PReLU())\n",
    "model.add(Dropout(0.2))\n",
    "model.add(BatchNormalization())\n",
    "\n",
    "model.add(Dense(200))\n",
    "model.add(PReLU())\n",
    "# model.add(Dropout(0.2))\n",
    "model.add(BatchNormalization())\n",
    "\n",
    "model.add(Dense(200))\n",
    "model.add(PReLU())\n",
    "# model.add(Dropout(0.2))\n",
    "model.add(BatchNormalization())\n",
    "\n",
    "model.add(Dense(200))\n",
    "model.add(PReLU())\n",
    "# model.add(Dropout(0.2))\n",
    "model.add(BatchNormalization())\n",
    "\n",
    "model.add(Dense(units=1))\n",
    "model.add(Activation(activation='softmax'))"
   ]
  },
  {
   "cell_type": "code",
   "execution_count": 64,
   "metadata": {},
   "outputs": [
    {
     "name": "stdout",
     "output_type": "stream",
     "text": [
      "Model: \"sequential_2\"\n",
      "_________________________________________________________________\n",
      "Layer (type)                 Output Shape              Param #   \n",
      "=================================================================\n",
      "embedding_1 (Embedding)      (None, 100, 40)           2000000   \n",
      "_________________________________________________________________\n",
      "lstm (LSTM)                  (None, 300)               409200    \n",
      "_________________________________________________________________\n",
      "batch_normalization (BatchNo (None, 300)               1200      \n",
      "_________________________________________________________________\n",
      "dense (Dense)                (None, 200)               60200     \n",
      "_________________________________________________________________\n",
      "p_re_lu (PReLU)              (None, 200)               200       \n",
      "_________________________________________________________________\n",
      "dropout (Dropout)            (None, 200)               0         \n",
      "_________________________________________________________________\n",
      "batch_normalization_1 (Batch (None, 200)               800       \n",
      "_________________________________________________________________\n",
      "dense_1 (Dense)              (None, 200)               40200     \n",
      "_________________________________________________________________\n",
      "p_re_lu_1 (PReLU)            (None, 200)               200       \n",
      "_________________________________________________________________\n",
      "batch_normalization_2 (Batch (None, 200)               800       \n",
      "_________________________________________________________________\n",
      "dense_2 (Dense)              (None, 200)               40200     \n",
      "_________________________________________________________________\n",
      "p_re_lu_2 (PReLU)            (None, 200)               200       \n",
      "_________________________________________________________________\n",
      "batch_normalization_3 (Batch (None, 200)               800       \n",
      "_________________________________________________________________\n",
      "dense_3 (Dense)              (None, 200)               40200     \n",
      "_________________________________________________________________\n",
      "p_re_lu_3 (PReLU)            (None, 200)               200       \n",
      "_________________________________________________________________\n",
      "batch_normalization_4 (Batch (None, 200)               800       \n",
      "_________________________________________________________________\n",
      "dense_4 (Dense)              (None, 1)                 201       \n",
      "_________________________________________________________________\n",
      "activation (Activation)      (None, 1)                 0         \n",
      "=================================================================\n",
      "Total params: 2,595,401\n",
      "Trainable params: 2,593,201\n",
      "Non-trainable params: 2,200\n",
      "_________________________________________________________________\n"
     ]
    }
   ],
   "source": [
    "model.summary()"
   ]
  },
  {
   "cell_type": "code",
   "execution_count": 65,
   "metadata": {},
   "outputs": [],
   "source": [
    "model.compile(loss='binary_crossentropy' , optimizer='adam', metrics=['accuracy'])"
   ]
  },
  {
   "cell_type": "code",
   "execution_count": 66,
   "metadata": {},
   "outputs": [],
   "source": [
    "# Splitting the Data For Training and Validating \n",
    "\n",
    "\n",
    "from sklearn.model_selection import train_test_split\n",
    "X_train_text_indices, X_test_text_indices, y_train, y_test = train_test_split(X_final, y_final, test_size=0.20, random_state=20)  "
   ]
  },
  {
   "cell_type": "code",
   "execution_count": 67,
   "metadata": {},
   "outputs": [
    {
     "name": "stdout",
     "output_type": "stream",
     "text": [
      "Train on 90 samples, validate on 10 samples\n",
      "Epoch 1/50\n",
      "90/90 [==============================] - 18s 199ms/sample - loss: -28.2958 - accuracy: 0.0222 - val_loss: -32.0234 - val_accuracy: 0.0000e+00\n",
      "Epoch 2/50\n",
      "90/90 [==============================] - 8s 92ms/sample - loss: -28.2958 - accuracy: 0.0222 - val_loss: -32.0234 - val_accuracy: 0.0000e+00\n",
      "Epoch 3/50\n",
      "90/90 [==============================] - 9s 103ms/sample - loss: -28.2958 - accuracy: 0.0222 - val_loss: -32.0234 - val_accuracy: 0.0000e+00\n",
      "Epoch 4/50\n",
      "90/90 [==============================] - 9s 102ms/sample - loss: -28.2958 - accuracy: 0.0222 - val_loss: -32.0234 - val_accuracy: 0.0000e+00\n",
      "Epoch 5/50\n",
      "90/90 [==============================] - 8s 93ms/sample - loss: -28.2958 - accuracy: 0.0222 - val_loss: -32.0234 - val_accuracy: 0.0000e+00\n",
      "Epoch 6/50\n",
      "90/90 [==============================] - 9s 95ms/sample - loss: -28.2958 - accuracy: 0.0222 - val_loss: -32.0234 - val_accuracy: 0.0000e+00\n",
      "Epoch 7/50\n",
      "90/90 [==============================] - 8s 93ms/sample - loss: -28.2958 - accuracy: 0.0222 - val_loss: -32.0234 - val_accuracy: 0.0000e+00\n",
      "Epoch 8/50\n",
      "90/90 [==============================] - 8s 92ms/sample - loss: -28.2958 - accuracy: 0.0222 - val_loss: -32.0234 - val_accuracy: 0.0000e+00\n",
      "Epoch 9/50\n",
      "90/90 [==============================] - 8s 93ms/sample - loss: -28.2958 - accuracy: 0.0222 - val_loss: -32.0234 - val_accuracy: 0.0000e+00\n",
      "Epoch 10/50\n",
      "90/90 [==============================] - 9s 94ms/sample - loss: -28.2958 - accuracy: 0.0222 - val_loss: -32.0234 - val_accuracy: 0.0000e+00\n",
      "Epoch 11/50\n",
      "90/90 [==============================] - 9s 95ms/sample - loss: -28.2958 - accuracy: 0.0222 - val_loss: -32.0234 - val_accuracy: 0.0000e+00\n",
      "Epoch 12/50\n",
      "90/90 [==============================] - 9s 99ms/sample - loss: -28.2958 - accuracy: 0.0222 - val_loss: -32.0234 - val_accuracy: 0.0000e+00\n",
      "Epoch 13/50\n",
      "90/90 [==============================] - 8s 93ms/sample - loss: -28.2958 - accuracy: 0.0222 - val_loss: -32.0234 - val_accuracy: 0.0000e+00\n",
      "Epoch 14/50\n",
      "90/90 [==============================] - 8s 93ms/sample - loss: -28.2958 - accuracy: 0.0222 - val_loss: -32.0234 - val_accuracy: 0.0000e+00\n",
      "Epoch 15/50\n",
      "90/90 [==============================] - 8s 93ms/sample - loss: -28.2958 - accuracy: 0.0222 - val_loss: -32.0234 - val_accuracy: 0.0000e+00\n",
      "Epoch 16/50\n",
      "90/90 [==============================] - 9s 97ms/sample - loss: -28.2958 - accuracy: 0.0222 - val_loss: -32.0234 - val_accuracy: 0.0000e+00\n",
      "Epoch 17/50\n",
      "90/90 [==============================] - 8s 93ms/sample - loss: -28.2958 - accuracy: 0.0222 - val_loss: -32.0234 - val_accuracy: 0.0000e+00\n",
      "Epoch 18/50\n",
      "90/90 [==============================] - 8s 93ms/sample - loss: -28.2958 - accuracy: 0.0222 - val_loss: -32.0234 - val_accuracy: 0.0000e+00\n",
      "Epoch 19/50\n",
      "90/90 [==============================] - 8s 93ms/sample - loss: -28.2958 - accuracy: 0.0222 - val_loss: -32.0234 - val_accuracy: 0.0000e+00\n",
      "Epoch 20/50\n",
      "90/90 [==============================] - 8s 91ms/sample - loss: -28.2958 - accuracy: 0.0222 - val_loss: -32.0234 - val_accuracy: 0.0000e+00\n",
      "Epoch 21/50\n",
      "90/90 [==============================] - 9s 98ms/sample - loss: -28.2958 - accuracy: 0.0222 - val_loss: -32.0234 - val_accuracy: 0.0000e+00\n",
      "Epoch 22/50\n",
      "90/90 [==============================] - 8s 94ms/sample - loss: -28.2958 - accuracy: 0.0222 - val_loss: -32.0234 - val_accuracy: 0.0000e+00\n",
      "Epoch 23/50\n",
      "90/90 [==============================] - 9s 98ms/sample - loss: -28.2958 - accuracy: 0.0222 - val_loss: -32.0234 - val_accuracy: 0.0000e+00\n",
      "Epoch 24/50\n",
      "90/90 [==============================] - 9s 103ms/sample - loss: -28.2958 - accuracy: 0.0222 - val_loss: -32.0234 - val_accuracy: 0.0000e+00\n",
      "Epoch 25/50\n",
      "90/90 [==============================] - 9s 104ms/sample - loss: -28.2958 - accuracy: 0.0222 - val_loss: -32.0234 - val_accuracy: 0.0000e+00\n",
      "Epoch 26/50\n",
      "90/90 [==============================] - 10s 109ms/sample - loss: -28.2958 - accuracy: 0.0222 - val_loss: -32.0234 - val_accuracy: 0.0000e+00\n",
      "Epoch 27/50\n",
      "90/90 [==============================] - 8s 92ms/sample - loss: -28.2958 - accuracy: 0.0222 - val_loss: -32.0234 - val_accuracy: 0.0000e+00\n",
      "Epoch 28/50\n",
      "90/90 [==============================] - 8s 92ms/sample - loss: -28.2958 - accuracy: 0.0222 - val_loss: -32.0234 - val_accuracy: 0.0000e+00\n",
      "Epoch 29/50\n",
      "90/90 [==============================] - 8s 94ms/sample - loss: -28.2958 - accuracy: 0.0222 - val_loss: -32.0234 - val_accuracy: 0.0000e+00\n",
      "Epoch 30/50\n",
      "90/90 [==============================] - 9s 97ms/sample - loss: -28.2958 - accuracy: 0.0222 - val_loss: -32.0234 - val_accuracy: 0.0000e+00\n",
      "Epoch 31/50\n",
      "90/90 [==============================] - 9s 94ms/sample - loss: -28.2958 - accuracy: 0.0222 - val_loss: -32.0234 - val_accuracy: 0.0000e+00\n",
      "Epoch 32/50\n",
      "90/90 [==============================] - 8s 94ms/sample - loss: -28.2958 - accuracy: 0.0222 - val_loss: -32.0234 - val_accuracy: 0.0000e+00\n",
      "Epoch 33/50\n",
      "90/90 [==============================] - 8s 94ms/sample - loss: -28.2958 - accuracy: 0.0222 - val_loss: -32.0234 - val_accuracy: 0.0000e+00\n",
      "Epoch 34/50\n",
      "90/90 [==============================] - 9s 100ms/sample - loss: -28.2958 - accuracy: 0.0222 - val_loss: -32.0234 - val_accuracy: 0.0000e+00\n",
      "Epoch 35/50\n",
      "90/90 [==============================] - 9s 99ms/sample - loss: -28.2958 - accuracy: 0.0222 - val_loss: -32.0234 - val_accuracy: 0.0000e+00\n",
      "Epoch 36/50\n",
      "90/90 [==============================] - 15s 170ms/sample - loss: -28.2958 - accuracy: 0.0222 - val_loss: -32.0234 - val_accuracy: 0.0000e+00\n",
      "Epoch 37/50\n",
      "90/90 [==============================] - 19s 214ms/sample - loss: -28.2958 - accuracy: 0.0222 - val_loss: -32.0234 - val_accuracy: 0.0000e+00\n",
      "Epoch 38/50\n",
      "90/90 [==============================] - 11s 123ms/sample - loss: -28.2958 - accuracy: 0.0222 - val_loss: -32.0234 - val_accuracy: 0.0000e+00\n",
      "Epoch 39/50\n",
      "90/90 [==============================] - 10s 109ms/sample - loss: -28.2958 - accuracy: 0.0222 - val_loss: -32.0234 - val_accuracy: 0.0000e+00\n",
      "Epoch 40/50\n",
      "90/90 [==============================] - 9s 98ms/sample - loss: -28.2958 - accuracy: 0.0222 - val_loss: -32.0234 - val_accuracy: 0.0000e+00\n",
      "Epoch 41/50\n",
      "90/90 [==============================] - 9s 99ms/sample - loss: -28.2958 - accuracy: 0.0222 - val_loss: -32.0234 - val_accuracy: 0.0000e+00\n",
      "Epoch 42/50\n",
      "90/90 [==============================] - 9s 98ms/sample - loss: -28.2958 - accuracy: 0.0222 - val_loss: -32.0234 - val_accuracy: 0.0000e+00\n",
      "Epoch 43/50\n",
      "90/90 [==============================] - 9s 97ms/sample - loss: -28.2958 - accuracy: 0.0222 - val_loss: -32.0234 - val_accuracy: 0.0000e+00\n",
      "Epoch 44/50\n",
      "90/90 [==============================] - 9s 96ms/sample - loss: -28.2958 - accuracy: 0.0222 - val_loss: -32.0234 - val_accuracy: 0.0000e+00\n",
      "Epoch 45/50\n",
      "90/90 [==============================] - 9s 101ms/sample - loss: -28.2958 - accuracy: 0.0222 - val_loss: -32.0234 - val_accuracy: 0.0000e+00\n",
      "Epoch 46/50\n",
      "90/90 [==============================] - 9s 101ms/sample - loss: -28.2958 - accuracy: 0.0222 - val_loss: -32.0234 - val_accuracy: 0.0000e+00\n",
      "Epoch 47/50\n",
      "90/90 [==============================] - 9s 96ms/sample - loss: -28.2958 - accuracy: 0.0222 - val_loss: -32.0234 - val_accuracy: 0.0000e+00\n",
      "Epoch 48/50\n",
      "90/90 [==============================] - 8s 93ms/sample - loss: -28.2958 - accuracy: 0.0222 - val_loss: -32.0234 - val_accuracy: 0.0000e+00\n",
      "Epoch 49/50\n",
      "90/90 [==============================] - 8s 92ms/sample - loss: -28.2958 - accuracy: 0.0222 - val_loss: -32.0234 - val_accuracy: 0.0000e+00\n",
      "Epoch 50/50\n",
      "90/90 [==============================] - 8s 92ms/sample - loss: -28.2958 - accuracy: 0.0222 - val_loss: -32.0234 - val_accuracy: 0.0000e+00\n"
     ]
    }
   ],
   "source": [
    "history = model.fit(X_train_text_indices, y_train, epochs=50, batch_size=12, validation_data=(X_test_text_indices, y_test), shuffle=True)"
   ]
  },
  {
   "cell_type": "code",
   "execution_count": null,
   "metadata": {},
   "outputs": [],
   "source": [
    "# print(model.predict(embedded_docs))"
   ]
  },
  {
   "cell_type": "markdown",
   "metadata": {},
   "source": [
    "## Visualizing The Loss, Val_Loss, Accuracy ,Val_Accuracy"
   ]
  },
  {
   "cell_type": "code",
   "execution_count": null,
   "metadata": {},
   "outputs": [],
   "source": []
  },
  {
   "cell_type": "code",
   "execution_count": 68,
   "metadata": {},
   "outputs": [
    {
     "data": {
      "text/plain": [
       "[<matplotlib.lines.Line2D at 0x239ffd2c780>,\n",
       " <matplotlib.lines.Line2D at 0x239ffd2c8d0>,\n",
       " <matplotlib.lines.Line2D at 0x239ffd2ca20>,\n",
       " <matplotlib.lines.Line2D at 0x239ffd2cb70>,\n",
       " <matplotlib.lines.Line2D at 0x239ffd2ccc0>,\n",
       " <matplotlib.lines.Line2D at 0x239ffd2ce10>,\n",
       " <matplotlib.lines.Line2D at 0x239ffd2cf60>,\n",
       " <matplotlib.lines.Line2D at 0x239ffd370f0>,\n",
       " <matplotlib.lines.Line2D at 0x239ffd37240>,\n",
       " <matplotlib.lines.Line2D at 0x239ffd37390>,\n",
       " <matplotlib.lines.Line2D at 0x239ffd05a90>,\n",
       " <matplotlib.lines.Line2D at 0x239ffd375f8>,\n",
       " <matplotlib.lines.Line2D at 0x239ffd37748>,\n",
       " <matplotlib.lines.Line2D at 0x239ffd37898>,\n",
       " <matplotlib.lines.Line2D at 0x239ffd379e8>,\n",
       " <matplotlib.lines.Line2D at 0x239ffd37b38>,\n",
       " <matplotlib.lines.Line2D at 0x239ffd37c88>,\n",
       " <matplotlib.lines.Line2D at 0x239ffd37dd8>,\n",
       " <matplotlib.lines.Line2D at 0x239ffd37f28>,\n",
       " <matplotlib.lines.Line2D at 0x239ffd3b0b8>,\n",
       " <matplotlib.lines.Line2D at 0x239ffd3b208>,\n",
       " <matplotlib.lines.Line2D at 0x239ffd3b358>,\n",
       " <matplotlib.lines.Line2D at 0x239ffd3b4a8>,\n",
       " <matplotlib.lines.Line2D at 0x239ffd3b5f8>,\n",
       " <matplotlib.lines.Line2D at 0x239ffd3b748>,\n",
       " <matplotlib.lines.Line2D at 0x239ffd3b898>,\n",
       " <matplotlib.lines.Line2D at 0x239ffd3b9e8>,\n",
       " <matplotlib.lines.Line2D at 0x239ffd3bb38>,\n",
       " <matplotlib.lines.Line2D at 0x239ffd3bc88>,\n",
       " <matplotlib.lines.Line2D at 0x239ffd3bdd8>,\n",
       " <matplotlib.lines.Line2D at 0x239ffd3bf28>,\n",
       " <matplotlib.lines.Line2D at 0x239ffd400b8>,\n",
       " <matplotlib.lines.Line2D at 0x239ffd40208>,\n",
       " <matplotlib.lines.Line2D at 0x239ffd40358>,\n",
       " <matplotlib.lines.Line2D at 0x239ffd404a8>,\n",
       " <matplotlib.lines.Line2D at 0x239ffd405f8>,\n",
       " <matplotlib.lines.Line2D at 0x239ffd40748>,\n",
       " <matplotlib.lines.Line2D at 0x239ffd40898>,\n",
       " <matplotlib.lines.Line2D at 0x239ffd409e8>,\n",
       " <matplotlib.lines.Line2D at 0x239ffd40b38>,\n",
       " <matplotlib.lines.Line2D at 0x239ffd40c88>,\n",
       " <matplotlib.lines.Line2D at 0x239ffd40dd8>,\n",
       " <matplotlib.lines.Line2D at 0x239ffd40f28>,\n",
       " <matplotlib.lines.Line2D at 0x239ffd460b8>,\n",
       " <matplotlib.lines.Line2D at 0x239ffd46208>,\n",
       " <matplotlib.lines.Line2D at 0x239ffd46358>,\n",
       " <matplotlib.lines.Line2D at 0x239ffd464a8>,\n",
       " <matplotlib.lines.Line2D at 0x239ffd465f8>,\n",
       " <matplotlib.lines.Line2D at 0x239ffd46748>,\n",
       " <matplotlib.lines.Line2D at 0x239ffd46898>]"
      ]
     },
     "execution_count": 68,
     "metadata": {},
     "output_type": "execute_result"
    },
    {
     "data": {
      "image/png": "[encoded data removed]",
      "text/plain": [
       "<Figure size 432x288 with 1 Axes>"
      ]
     },
     "metadata": {
      "needs_background": "light"
     },
     "output_type": "display_data"
    }
   ],
   "source": [
    "plt.plot(list(history.history.keys()),list(history.history.values()))"
   ]
  },
  {
   "cell_type": "code",
   "execution_count": 426,
   "metadata": {},
   "outputs": [],
   "source": [
    "### Accuracy & Val_Accuracy"
   ]
  },
  {
   "cell_type": "code",
   "execution_count": 69,
   "metadata": {},
   "outputs": [
    {
     "data": {
      "image/png": "[encoded data removed]",
      "text/plain": [
       "<Figure size 432x288 with 1 Axes>"
      ]
     },
     "metadata": {
      "needs_background": "light"
     },
     "output_type": "display_data"
    }
   ],
   "source": [
    "plt.plot(history.history['accuracy'])\n",
    "plt.plot(history.history['val_accuracy'])\n",
    "plt.title('model train vs validation accuracy')\n",
    "plt.ylabel('loss')\n",
    "plt.xlabel('epoch')\n",
    "plt.legend(['train', 'validation'], loc='upper right')\n",
    "plt.show()"
   ]
  },
  {
   "cell_type": "markdown",
   "metadata": {},
   "source": [
    "### Loss & Val_loss"
   ]
  },
  {
   "cell_type": "code",
   "execution_count": 70,
   "metadata": {},
   "outputs": [
    {
     "data": {
      "image/png": "[encoded data removed]",
      "text/plain": [
       "<Figure size 432x288 with 1 Axes>"
      ]
     },
     "metadata": {
      "needs_background": "light"
     },
     "output_type": "display_data"
    }
   ],
   "source": [
    "plt.plot(history.history['loss'])\n",
    "plt.plot(history.history['val_loss'])\n",
    "plt.title('model train vs validation loss')\n",
    "plt.ylabel('loss')\n",
    "plt.xlabel('epoch')\n",
    "plt.legend(['train', 'validation'], loc='upper right')\n",
    "plt.show()"
   ]
  },
  {
   "cell_type": "code",
   "execution_count": 377,
   "metadata": {},
   "outputs": [],
   "source": [
    "# df.columns"
   ]
  },
  {
   "cell_type": "code",
   "execution_count": 72,
   "metadata": {},
   "outputs": [],
   "source": [
    "y_pred=model.predict_classes(X_dev_text_indices)"
   ]
  },
  {
   "cell_type": "code",
   "execution_count": 74,
   "metadata": {},
   "outputs": [
    {
     "data": {
      "text/plain": [
       "array([[0, 0, 0, 0],\n",
       "       [1, 0, 0, 0],\n",
       "       [7, 0, 0, 0],\n",
       "       [2, 0, 0, 0]], dtype=int64)"
      ]
     },
     "execution_count": 74,
     "metadata": {},
     "output_type": "execute_result"
    }
   ],
   "source": [
    "from sklearn.metrics import confusion_matrix\n",
    "confusion_matrix(y_test,y_pred)\n"
   ]
  },
  {
   "cell_type": "code",
   "execution_count": 76,
   "metadata": {},
   "outputs": [
    {
     "name": "stdout",
     "output_type": "stream",
     "text": [
      "              precision    recall  f1-score   support\n",
      "\n",
      "           1       0.00      0.00      0.00       0.0\n",
      "           2       0.00      0.00      0.00       1.0\n",
      "           3       0.00      0.00      0.00       7.0\n",
      "           4       0.00      0.00      0.00       2.0\n",
      "\n",
      "    accuracy                           0.00      10.0\n",
      "   macro avg       0.00      0.00      0.00      10.0\n",
      "weighted avg       0.00      0.00      0.00      10.0\n",
      "\n"
     ]
    },
    {
     "name": "stderr",
     "output_type": "stream",
     "text": [
      "C:\\Users\\Mizgaan\\Anaconda3\\lib\\site-packages\\sklearn\\metrics\\_classification.py:1221: UndefinedMetricWarning: Precision and F-score are ill-defined and being set to 0.0 in labels with no predicted samples. Use `zero_division` parameter to control this behavior.\n",
      "  _warn_prf(average, modifier, msg_start, len(result))\n",
      "C:\\Users\\Mizgaan\\Anaconda3\\lib\\site-packages\\sklearn\\metrics\\_classification.py:1221: UndefinedMetricWarning: Recall and F-score are ill-defined and being set to 0.0 in labels with no true samples. Use `zero_division` parameter to control this behavior.\n",
      "  _warn_prf(average, modifier, msg_start, len(result))\n"
     ]
    }
   ],
   "source": [
    "from sklearn.metrics import classification_report,accuracy_score\n",
    "print(classification_report(y_test,y_pred))"
   ]
  },
  {
   "cell_type": "code",
   "execution_count": 78,
   "metadata": {},
   "outputs": [
    {
     "data": {
      "text/plain": [
       "0.0"
      ]
     },
     "execution_count": 78,
     "metadata": {},
     "output_type": "execute_result"
    }
   ],
   "source": [
    "accuracy_score(y_test,y_pred)"
   ]
  },
  {
   "cell_type": "code",
   "execution_count": null,
   "metadata": {},
   "outputs": [],
   "source": []
  },
  {
   "cell_type": "markdown",
   "metadata": {},
   "source": [
    "## Model- II"
   ]
  },
  {
   "cell_type": "code",
   "execution_count": 79,
   "metadata": {},
   "outputs": [
    {
     "name": "stdout",
     "output_type": "stream",
     "text": [
      "Model: \"sequential_3\"\n",
      "_________________________________________________________________\n",
      "Layer (type)                 Output Shape              Param #   \n",
      "=================================================================\n",
      "embedding_2 (Embedding)      (None, 100, 40)           2000000   \n",
      "_________________________________________________________________\n",
      "bidirectional (Bidirectional (None, 200)               112800    \n",
      "_________________________________________________________________\n",
      "dropout_1 (Dropout)          (None, 200)               0         \n",
      "_________________________________________________________________\n",
      "dense_5 (Dense)              (None, 1)                 201       \n",
      "=================================================================\n",
      "Total params: 2,113,001\n",
      "Trainable params: 2,113,001\n",
      "Non-trainable params: 0\n",
      "_________________________________________________________________\n",
      "None\n"
     ]
    }
   ],
   "source": [
    "embedding_vector_features=40\n",
    "model1=Sequential()\n",
    "model1.add(Embedding(voc_size,embedding_vector_features,input_length=sent_length))\n",
    "model1.add(Bidirectional(LSTM(100)))\n",
    "model1.add(Dropout(0.3))\n",
    "model1.add(Dense(1,activation='sigmoid'))\n",
    "model1.compile(loss=tf.keras.losses.BinaryCrossentropy(),  optimizer=tf.keras.optimizers.RMSprop(\n",
    "    learning_rate=0.001,\n",
    "    rho=0.9,\n",
    "    momentum=0.0,\n",
    "    epsilon=1e-07,\n",
    "    centered=False,\n",
    "    name=\"RMSprop\"),\n",
    "    \n",
    "        metrics=['accuracy'])\n",
    "print(model1.summary())"
   ]
  },
  {
   "cell_type": "code",
   "execution_count": null,
   "metadata": {},
   "outputs": [],
   "source": [
    "# tf.keras.losses.Hinge()\n",
    "# tf.keras.losses.CategoricalCrossentropy()\n",
    "# tf.keras.losses.SparseCategoricalCrossentropy()\n",
    "# tf.keras.losses.KLDivergence()"
   ]
  },
  {
   "cell_type": "code",
   "execution_count": null,
   "metadata": {},
   "outputs": [],
   "source": []
  },
  {
   "cell_type": "code",
   "execution_count": null,
   "metadata": {},
   "outputs": [],
   "source": []
  },
  {
   "cell_type": "code",
   "execution_count": 80,
   "metadata": {},
   "outputs": [],
   "source": [
    "from sklearn.model_selection import train_test_split\n",
    "X_train, X_test, y_train, y_test = train_test_split(X_final, y_final, test_size=0.2, random_state=4)"
   ]
  },
  {
   "cell_type": "code",
   "execution_count": 81,
   "metadata": {},
   "outputs": [
    {
     "name": "stdout",
     "output_type": "stream",
     "text": [
      "Train on 80 samples, validate on 20 samples\n",
      "Epoch 1/20\n",
      "80/80 [==============================] - 11s 134ms/sample - loss: -17.3837 - accuracy: 0.0250 - val_loss: -33.5438 - val_accuracy: 0.0000e+00\n",
      "Epoch 2/20\n",
      "80/80 [==============================] - 4s 50ms/sample - loss: -39.5580 - accuracy: 0.0250 - val_loss: -43.7468 - val_accuracy: 0.0000e+00\n",
      "Epoch 3/20\n",
      "80/80 [==============================] - 4s 50ms/sample - loss: -47.6053 - accuracy: 0.0250 - val_loss: -50.2164 - val_accuracy: 0.0000e+00\n",
      "Epoch 4/20\n",
      "80/80 [==============================] - 4s 50ms/sample - loss: -53.8066 - accuracy: 0.0250 - val_loss: -55.7590 - val_accuracy: 0.0000e+00\n",
      "Epoch 5/20\n",
      "80/80 [==============================] - 4s 50ms/sample - loss: -59.1881 - accuracy: 0.0250 - val_loss: -60.7522 - val_accuracy: 0.0000e+00\n",
      "Epoch 6/20\n",
      "80/80 [==============================] - 4s 49ms/sample - loss: -64.1764 - accuracy: 0.0250 - val_loss: -66.0270 - val_accuracy: 0.0000e+00\n",
      "Epoch 7/20\n",
      "80/80 [==============================] - 4s 50ms/sample - loss: -69.5720 - accuracy: 0.0250 - val_loss: -71.0184 - val_accuracy: 0.0000e+00\n",
      "Epoch 8/20\n",
      "80/80 [==============================] - 4s 50ms/sample - loss: -75.0550 - accuracy: 0.0250 - val_loss: -76.0856 - val_accuracy: 0.0000e+00\n",
      "Epoch 9/20\n",
      "80/80 [==============================] - 4s 48ms/sample - loss: -79.5301 - accuracy: 0.0250 - val_loss: -81.0778 - val_accuracy: 0.0000e+00\n",
      "Epoch 10/20\n",
      "80/80 [==============================] - 4s 49ms/sample - loss: -85.0490 - accuracy: 0.0250 - val_loss: -86.1403 - val_accuracy: 0.0000e+00\n",
      "Epoch 11/20\n",
      "80/80 [==============================] - 4s 48ms/sample - loss: -90.4960 - accuracy: 0.0250 - val_loss: -90.9947 - val_accuracy: 0.0000e+00\n",
      "Epoch 12/20\n",
      "80/80 [==============================] - 4s 49ms/sample - loss: -94.8977 - accuracy: 0.0250 - val_loss: -95.9775 - val_accuracy: 0.0000e+00\n",
      "Epoch 13/20\n",
      "80/80 [==============================] - 4s 50ms/sample - loss: -99.8590 - accuracy: 0.0250 - val_loss: -100.8607 - val_accuracy: 0.0000e+00\n",
      "Epoch 14/20\n",
      "80/80 [==============================] - 4s 49ms/sample - loss: -104.3826 - accuracy: 0.0250 - val_loss: -105.6646 - val_accuracy: 0.0000e+00\n",
      "Epoch 15/20\n",
      "80/80 [==============================] - 4s 49ms/sample - loss: -109.6338 - accuracy: 0.0250 - val_loss: -110.6977 - val_accuracy: 0.0000e+00\n",
      "Epoch 16/20\n",
      "80/80 [==============================] - 4s 49ms/sample - loss: -115.7351 - accuracy: 0.0250 - val_loss: -115.4427 - val_accuracy: 0.0000e+00\n",
      "Epoch 17/20\n",
      "80/80 [==============================] - 4s 49ms/sample - loss: -119.7473 - accuracy: 0.0250 - val_loss: -120.4567 - val_accuracy: 0.0000e+00\n",
      "Epoch 18/20\n",
      "80/80 [==============================] - 4s 50ms/sample - loss: -124.7690 - accuracy: 0.0250 - val_loss: -125.4549 - val_accuracy: 0.0000e+00\n",
      "Epoch 19/20\n",
      "80/80 [==============================] - 4s 48ms/sample - loss: -129.6778 - accuracy: 0.0250 - val_loss: -130.3645 - val_accuracy: 0.0000e+00\n",
      "Epoch 20/20\n",
      "80/80 [==============================] - 4s 49ms/sample - loss: -133.4569 - accuracy: 0.0250 - val_loss: -135.1785 - val_accuracy: 0.0000e+00\n"
     ]
    }
   ],
   "source": [
    "history1=model1.fit(X_train,y_train,validation_data=(X_test,y_test),epochs=20,batch_size=6)\n"
   ]
  },
  {
   "cell_type": "code",
   "execution_count": 501,
   "metadata": {},
   "outputs": [],
   "source": [
    "# history1.history"
   ]
  },
  {
   "cell_type": "code",
   "execution_count": 82,
   "metadata": {},
   "outputs": [],
   "source": [
    "y_pred1=model1.predict_classes(X_test)\n"
   ]
  },
  {
   "cell_type": "code",
   "execution_count": 83,
   "metadata": {},
   "outputs": [
    {
     "data": {
      "text/plain": [
       "array([[ 0,  0,  0,  0],\n",
       "       [ 4,  0,  0,  0],\n",
       "       [15,  0,  0,  0],\n",
       "       [ 1,  0,  0,  0]], dtype=int64)"
      ]
     },
     "execution_count": 83,
     "metadata": {},
     "output_type": "execute_result"
    }
   ],
   "source": [
    "from sklearn.metrics import confusion_matrix\n",
    "confusion_matrix(y_test,y_pred1)\n"
   ]
  },
  {
   "cell_type": "code",
   "execution_count": 84,
   "metadata": {},
   "outputs": [
    {
     "data": {
      "text/plain": [
       "0.0"
      ]
     },
     "execution_count": 84,
     "metadata": {},
     "output_type": "execute_result"
    }
   ],
   "source": [
    "from sklearn.metrics import accuracy_score\n",
    "accuracy_score(y_test,y_pred1)"
   ]
  },
  {
   "cell_type": "code",
   "execution_count": 552,
   "metadata": {},
   "outputs": [
    {
     "name": "stdout",
     "output_type": "stream",
     "text": [
      "              precision    recall  f1-score   support\n",
      "\n",
      "           1       0.00      0.00      0.00       0.0\n",
      "           3       0.00      0.00      0.00       3.0\n",
      "           4       0.00      0.00      0.00       2.0\n",
      "\n",
      "    accuracy                           0.00       5.0\n",
      "   macro avg       0.00      0.00      0.00       5.0\n",
      "weighted avg       0.00      0.00      0.00       5.0\n",
      "\n"
     ]
    },
    {
     "name": "stderr",
     "output_type": "stream",
     "text": [
      "C:\\Users\\Mizgaan\\Anaconda3\\lib\\site-packages\\sklearn\\metrics\\_classification.py:1221: UndefinedMetricWarning: Precision and F-score are ill-defined and being set to 0.0 in labels with no predicted samples. Use `zero_division` parameter to control this behavior.\n",
      "  _warn_prf(average, modifier, msg_start, len(result))\n",
      "C:\\Users\\Mizgaan\\Anaconda3\\lib\\site-packages\\sklearn\\metrics\\_classification.py:1221: UndefinedMetricWarning: Recall and F-score are ill-defined and being set to 0.0 in labels with no true samples. Use `zero_division` parameter to control this behavior.\n",
      "  _warn_prf(average, modifier, msg_start, len(result))\n"
     ]
    }
   ],
   "source": [
    "from sklearn.metrics import classification_report\n",
    "print(classification_report(y_test,y_pred1))"
   ]
  },
  {
   "cell_type": "code",
   "execution_count": 85,
   "metadata": {},
   "outputs": [
    {
     "data": {
      "image/png": "[encoded data removed]",
      "text/plain": [
       "<Figure size 432x288 with 1 Axes>"
      ]
     },
     "metadata": {
      "needs_background": "light"
     },
     "output_type": "display_data"
    }
   ],
   "source": [
    "plt.plot(history1.history['loss'])\n",
    "plt.plot(history1.history['val_loss'])\n",
    "plt.title('model train vs validation loss')\n",
    "plt.ylabel('loss')\n",
    "plt.xlabel('epoch')\n",
    "plt.legend(['train', 'validation'], loc='upper right')\n",
    "plt.show()\n"
   ]
  },
  {
   "cell_type": "code",
   "execution_count": 86,
   "metadata": {},
   "outputs": [
    {
     "data": {
      "image/png": "[encoded data removed]",
      "text/plain": [
       "<Figure size 432x288 with 1 Axes>"
      ]
     },
     "metadata": {
      "needs_background": "light"
     },
     "output_type": "display_data"
    }
   ],
   "source": [
    "# (history).keys()\n",
    "plt.plot(history1.history['accuracy'])\n",
    "plt.plot(history1.history['val_accuracy'])\n",
    "plt.title('model train vs validation loss')\n",
    "plt.ylabel('accuracy')\n",
    "plt.xlabel('val_accuracy')\n",
    "plt.legend(['train', 'validation'], loc='upper right')\n",
    "plt.show()"
   ]
  },
  {
   "cell_type": "code",
   "execution_count": null,
   "metadata": {},
   "outputs": [],
   "source": []
  },
  {
   "cell_type": "code",
   "execution_count": null,
   "metadata": {},
   "outputs": [],
   "source": []
  }
 ],
 "metadata": {
  "kernelspec": {
   "display_name": "Python 3",
   "language": "python",
   "name": "python3"
  },
  "language_info": {
   "codemirror_mode": {
    "name": "ipython",
    "version": 3
   },
   "file_extension": ".py",
   "mimetype": "text/x-python",
   "name": "python",
   "nbconvert_exporter": "python",
   "pygments_lexer": "ipython3",
   "version": "3.7.3"
  }
 },
 "nbformat": 4,
 "nbformat_minor": 5
}
